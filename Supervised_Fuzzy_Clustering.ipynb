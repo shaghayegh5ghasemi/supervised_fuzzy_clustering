{
  "nbformat": 4,
  "nbformat_minor": 0,
  "metadata": {
    "colab": {
      "name": "Supervised_Fuzzy_Clustering.ipynb",
      "provenance": [],
      "collapsed_sections": [],
      "authorship_tag": "ABX9TyNJof+acS9d/SMdcO5umnoK",
      "include_colab_link": true
    },
    "kernelspec": {
      "name": "python3",
      "display_name": "Python 3"
    },
    "language_info": {
      "name": "python"
    }
  },
  "cells": [
    {
      "cell_type": "markdown",
      "metadata": {
        "id": "view-in-github",
        "colab_type": "text"
      },
      "source": [
        "<a href=\"https://colab.research.google.com/github/shaghayegh5ghasemi/supervised_fuzzy_clustering/blob/main/Supervised_Fuzzy_Clustering.ipynb\" target=\"_parent\"><img src=\"https://colab.research.google.com/assets/colab-badge.svg\" alt=\"Open In Colab\"/></a>"
      ]
    },
    {
      "cell_type": "code",
      "metadata": {
        "id": "1J7dz3ovFH3t"
      },
      "source": [
        "import torch\n",
        "import torchvision\n",
        "import torchvision.transforms as transforms\n",
        "import torchvision.datasets as datasets\n",
        "from torch.utils.data import DataLoader\n",
        "import matplotlib.pyplot as plt\n",
        "import numpy as np\n"
      ],
      "execution_count": null,
      "outputs": []
    },
    {
      "cell_type": "code",
      "metadata": {
        "colab": {
          "base_uri": "https://localhost:8080/",
          "height": 319
        },
        "id": "1r0bC7ePNs5B",
        "outputId": "09cd2824-4f86-4ed8-b673-a4c28a7e9ce4"
      },
      "source": [
        "transform = transforms.Compose(\n",
        "    [transforms.ToTensor(),\n",
        "     transforms.Normalize((0.5, 0.5, 0.5), (0.5, 0.5, 0.5))])\n",
        "\n",
        "# load data\n",
        "trainset = datasets.CIFAR10(root='./data', train=True, download=True, transform=transform)\n",
        "trainloader = DataLoader(trainset, batch_size=100, shuffle=True, num_workers=2)\n",
        "\n",
        "testset = datasets.CIFAR10(root='./data', train=False, download=True, transform=transform)\n",
        "testloader = DataLoader(testset, batch_size=100, shuffle=False, num_workers=2)\n",
        "\n",
        "classes = ('plane', 'car', 'bird', 'cat',\n",
        "           'deer', 'dog', 'frog', 'horse', 'ship', 'truck')\n",
        "\n",
        "# plot the image\n",
        "def imshow(img):\n",
        "    img = img / 2 + 0.5     # unnormalize\n",
        "    npimg = img.numpy() # convert from tensor\n",
        "    plt.imshow(np.transpose(npimg, (1, 2, 0)))\n",
        "    plt.show()\n",
        "\n",
        "# add padding to right, top, botton with width = 2 and value = 1\n",
        "def add_padding(img):\n",
        "  npimg = img.numpy()\n",
        "  padded_img = np.ones((3, 36, 36))\n",
        "  padded_img[0:3, 2:34, 2:34] = npimg\n",
        "  tensor_padded_img = torch.from_numpy(padded_img)\n",
        "  return tensor_padded_img\n",
        "\n",
        "# extract 3x3 window from 3x36x36 img => we have 12 3x3x3 images made from each individual image in dataset\n",
        "def make_window(img, label):\n",
        "  width = 36\n",
        "  height = 36\n",
        "  window_lists = []\n",
        "  npimg = img.numpy()\n",
        "  row = 0\n",
        "  column = 0\n",
        "  while(row < width):\n",
        "    while(column < height):\n",
        "      mini_tensor = torch.from_numpy(npimg[0:3, row:row+3, column:column+3])\n",
        "      window_lists.append((mini_tensor, label))\n",
        "      column = column + 3\n",
        "    column = 0\n",
        "    row = row + 3\n",
        "  return window_lists\n",
        "\n",
        "\n",
        "# get some random training images\n",
        "dataiter = iter(trainloader)\n",
        "images, labels = dataiter.next()\n",
        "\n",
        "# for i in range(100): \n",
        "#     if labels[i] == 9: \n",
        "#       print(images[i])\n",
        "#       #imshow(torchvision.utils.make_grid(images[i]))\n",
        "#       print(' '.join('%5s' % classes[labels[i]]))\n",
        "\n",
        "img = add_padding(images[0])\n",
        "lists = make_window(img)\n",
        "imshow(torchvision.utils.make_grid(img))\n",
        "print(len(lists))\n"
      ],
      "execution_count": 101,
      "outputs": [
        {
          "output_type": "stream",
          "name": "stdout",
          "text": [
            "Files already downloaded and verified\n",
            "Files already downloaded and verified\n"
          ]
        },
        {
          "output_type": "display_data",
          "data": {
            "image/png": "[encoded data removed]",
            "text/plain": [
              "<Figure size 432x288 with 1 Axes>"
            ]
          },
          "metadata": {
            "needs_background": "light"
          }
        },
        {
          "output_type": "stream",
          "name": "stdout",
          "text": [
            "144\n"
          ]
        }
      ]
    }
  ]
}