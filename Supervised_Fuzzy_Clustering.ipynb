{
  "cells": [
    {
      "cell_type": "markdown",
      "metadata": {
        "id": "view-in-github",
        "colab_type": "text"
      },
      "source": [
        "<a href=\"https://colab.research.google.com/github/shaghayegh5ghasemi/supervised_fuzzy_clustering/blob/main/Supervised_Fuzzy_Clustering.ipynb\" target=\"_parent\"><img src=\"https://colab.research.google.com/assets/colab-badge.svg\" alt=\"Open In Colab\"/></a>"
      ]
    },
    {
      "cell_type": "code",
      "execution_count": 1,
      "metadata": {
        "id": "1J7dz3ovFH3t"
      },
      "outputs": [],
      "source": [
        "import torch\n",
        "import torchvision\n",
        "import torchvision.transforms as transforms\n",
        "import torchvision.datasets as datasets\n",
        "from torch.utils.data import DataLoader\n",
        "import matplotlib.pyplot as plt\n",
        "import torch.nn as nn\n",
        "import torch.nn.functional as f\n",
        "import numpy as np"
      ]
    },
    {
      "cell_type": "code",
      "execution_count": 2,
      "metadata": {
        "colab": {
          "base_uri": "https://localhost:8080/",
          "height": 103,
          "referenced_widgets": [
            "80685d0ec05349ba8f58df3831c8ebbc",
            "848d39076f614765b00a563d33eda9a7",
            "98f4dce630754f44a0db66b601e80b20",
            "fd58ce3e53444e7c95cf6d05b7d66b06",
            "6e215b433cd84f5ba02c0f57471de052",
            "627bd31aef7b4f6593cc088d61067390",
            "eff836b64128433299c76bae395246c1",
            "e42f8aab4b8243e6953811256c1cd7d4",
            "af682d6044244e7a810184082c721ee7",
            "3e5c92a2c50349c88073fcf1ef5eec07",
            "b8c12f5ec6104b23b4c28e7e9a041776"
          ]
        },
        "id": "wf288Mi7Xzqi",
        "outputId": "314da1e7-2c3a-4eb4-e1c1-1fceb3bb244c"
      },
      "outputs": [
        {
          "output_type": "stream",
          "name": "stdout",
          "text": [
            "Downloading https://www.cs.toronto.edu/~kriz/cifar-10-python.tar.gz to dataset/cifar-10-python.tar.gz\n"
          ]
        },
        {
          "output_type": "display_data",
          "data": {
            "text/plain": [
              "  0%|          | 0/170498071 [00:00<?, ?it/s]"
            ],
            "application/vnd.jupyter.widget-view+json": {
              "version_major": 2,
              "version_minor": 0,
              "model_id": "80685d0ec05349ba8f58df3831c8ebbc"
            }
          },
          "metadata": {}
        },
        {
          "output_type": "stream",
          "name": "stdout",
          "text": [
            "Extracting dataset/cifar-10-python.tar.gz to dataset/\n",
            "Files already downloaded and verified\n"
          ]
        }
      ],
      "source": [
        "# load data\n",
        "trainset = datasets.CIFAR10(root='dataset/', train=True, transform=transforms.ToTensor(), download=True)\n",
        "trainloader = DataLoader(dataset=trainset, batch_size=1, shuffle=True)\n",
        "testset = datasets.CIFAR10(root='dataset/', train=False, transform=transforms.ToTensor(), download=True)\n",
        "testloader = DataLoader(dataset=testset, batch_size=1, shuffle=True)"
      ]
    },
    {
      "cell_type": "code",
      "execution_count": 3,
      "metadata": {
        "id": "rboSLDuDUWnf"
      },
      "outputs": [],
      "source": [
        "classes = ('plane', 'car', 'bird', 'cat',\n",
        "           'deer', 'dog', 'frog', 'horse', 'ship', 'truck')\n",
        "\n",
        "# dataset keeps our windows, class_label_matrix keeps the label of windows\n",
        "dataset = []\n",
        "class_label_matrix = []\n",
        "\n",
        "# centroid and cov of each cluster\n",
        "centroids = []\n",
        "covariances = []\n",
        "inverted_covariances = []\n",
        "\n",
        "# initialize the centroids and the parameters\n",
        "number_of_dimensions = 27\n",
        "number_of_classes = len(classes)\n",
        "\n",
        "gamma = 1\n",
        "sigma = 0.5\n",
        "threshold = 0.06\n",
        "beta = 1"
      ]
    },
    {
      "cell_type": "code",
      "execution_count": 4,
      "metadata": {
        "id": "JMEb8onvTvtJ"
      },
      "outputs": [],
      "source": [
        "# plot the image\n",
        "def imshow(img):\n",
        "    img = img / 2 + 0.5     # unnormalize\n",
        "    npimg = img.numpy() # convert from tensor\n",
        "    plt.imshow(np.transpose(npimg, (1, 2, 0)))\n",
        "    plt.show()"
      ]
    },
    {
      "cell_type": "code",
      "execution_count": 5,
      "metadata": {
        "id": "ErFLN31mUrzV"
      },
      "outputs": [],
      "source": [
        "def make_window(dataset, class_label_matrix, img, label, number_of_classes):\n",
        "  windows = img.unfold(1, 3, 2).unfold(2, 3, 2) # unflod(dimension, size, step)\n",
        "  for i in range(15):\n",
        "    for j in range(15):\n",
        "      dataset.append(windows[:, i, j].reshape(27))\n",
        "      temp = [0]*number_of_classes\n",
        "      temp[label] = 1\n",
        "      class_label_matrix.append(temp)"
      ]
    },
    {
      "cell_type": "code",
      "execution_count": 6,
      "metadata": {
        "id": "IyFBjivsc_Aw"
      },
      "outputs": [],
      "source": [
        "def make_dataset(dataset, class_label_matrix):\n",
        "  c = [0]*10\n",
        "  for i, (inputs, labels) in enumerate(trainloader):\n",
        "    if all(x == 10for x in c):\n",
        "      break\n",
        "    if c[labels[0]] == 10:\n",
        "      continue\n",
        "    else:\n",
        "      c[labels[0]] += 1\n",
        "      make_window(dataset, class_label_matrix, inputs[0], labels[0], 10)"
      ]
    },
    {
      "cell_type": "code",
      "execution_count": 7,
      "metadata": {
        "id": "hTU1Zxdve4im"
      },
      "outputs": [],
      "source": [
        "make_dataset(dataset, class_label_matrix)\n",
        "dataset = torch.stack(dataset)\n",
        "class_label_matrix = torch.tensor(class_label_matrix, dtype=torch.float32)"
      ]
    },
    {
      "cell_type": "code",
      "execution_count": 8,
      "metadata": {
        "id": "dzj-L1pZSUFS"
      },
      "outputs": [],
      "source": [
        "def calculate_mahanalobis_distance(icm, m, x):\n",
        "  # D^2 = (x-m)^T * C^-1 * (x-m), mahanalobis distance formula\n",
        "  s = x.reshape((27, 1))-m.reshape((27, 1))\n",
        "  return torch.transpose(s, 0, 1)@icm@s"
      ]
    },
    {
      "cell_type": "code",
      "execution_count": 9,
      "metadata": {
        "id": "K4EAW-dkLCTh"
      },
      "outputs": [],
      "source": [
        "def initialize_centroids(dataset, centroids, inverted_covariances, covariances, number_of_dimensions, gamma, sigma, threshold):\n",
        "  number_of_centroids = 0\n",
        "  for data in dataset:\n",
        "    if number_of_centroids == 0:\n",
        "      number_of_centroids += 1\n",
        "      centroids.append(data)\n",
        "      covariances.append(sigma*torch.eye(number_of_dimensions))\n",
        "      inverted_covariances.append(torch.eye(number_of_dimensions)/sigma)\n",
        "    else:\n",
        "      distances = []\n",
        "      for i in range(len(centroids)):\n",
        "        distances.append(calculate_mahanalobis_distance(inverted_covariances[i], centroids[i], data))\n",
        "      distances = -1*gamma*torch.tensor(distances)\n",
        "      RM = torch.exp(distances)\n",
        "      if max(RM) < threshold:\n",
        "        number_of_centroids += 1\n",
        "        centroids.append(data)\n",
        "        covariances.append(sigma*torch.eye(number_of_dimensions))\n",
        "        inverted_covariances.append(torch.eye(number_of_dimensions)/sigma)"
      ]
    },
    {
      "cell_type": "code",
      "execution_count": 10,
      "metadata": {
        "id": "Vm6kNHN7jiMQ"
      },
      "outputs": [],
      "source": [
        "initialize_centroids(dataset, centroids, inverted_covariances, covariances, number_of_dimensions, gamma, sigma, threshold)\n",
        "q = torch.zeros((len(centroids), number_of_classes), dtype=torch.float32) # matrix that contains the probibilities number of clusters x number of classes"
      ]
    },
    {
      "cell_type": "code",
      "execution_count": 11,
      "metadata": {
        "colab": {
          "base_uri": "https://localhost:8080/"
        },
        "id": "Q4mfSZV1nBmt",
        "outputId": "5393a2f2-3b59-4c5a-a463-78d536f4e383"
      },
      "outputs": [
        {
          "output_type": "stream",
          "name": "stdout",
          "text": [
            "57\n"
          ]
        }
      ],
      "source": [
        "print(len(centroids))"
      ]
    },
    {
      "cell_type": "code",
      "source": [
        "from torch.nn.functional import normalize\n",
        "def calculate_membership_matrix(dataset ,centroids, inverted_covariances, gamma):\n",
        "  RM = torch.zeros((len(dataset), len(centroids)), dtype=torch.float32) # matrix that contains the memberships number of samples x number of clusters\n",
        "  for i in range(len(centroids)):\n",
        "    xc = dataset-centroids[i]\n",
        "    temp = ((xc@inverted_covariances[0])*xc)@torch.ones((27, 1))\n",
        "    mem = torch.exp(-1*gamma*temp)\n",
        "    RM[:, i] = mem[:, 0]\n",
        "  #normalize the matirx\n",
        "  miu_ik = normalize(RM, p=1.0, dim = 1)\n",
        "  return miu_ik"
      ],
      "metadata": {
        "id": "ICuIZuKchIns"
      },
      "execution_count": 12,
      "outputs": []
    },
    {
      "cell_type": "code",
      "source": [
        "def update_centroids(dataset, centroids, inverted_covariances, q, gamma, beta):\n",
        "  updated_centroid = []\n",
        "  miu_ik = calculate_membership_matrix(dataset ,centroids, inverted_covariances, gamma)\n",
        "  for i in range(len(centroids)):\n",
        "    temp = class_label_matrix*miu_ik[:, [i]]\n",
        "    cnt = torch.sum(temp, 0).reshape((1, len(class_label_matrix[0]))) \n",
        "    q[i, :] = cnt/torch.sum(cnt)\n",
        "    temp2 = torch.sum(q[i]*class_label_matrix, 1).reshape([len(dataset), 1])*miu_ik[:, [i]]\n",
        "    temp3 = torch.transpose(temp2, 0, 1)@dataset\n",
        "    updated_centroid.append((1-beta)*centroids[i] + beta*(temp3)/torch.sum(temp2))\n",
        "  return updated_centroid"
      ],
      "metadata": {
        "id": "1YMotiyfpq3j"
      },
      "execution_count": 13,
      "outputs": []
    },
    {
      "cell_type": "markdown",
      "source": [
        "Ta inja iradi peyda nakardam\n",
        "---\n",
        "\n",
        "\n",
        "be ye chizi shak kardam unam khoroji func calculate_mahanalobis_distance bood ke shapesh [[1, 1]] bood va man addade tosho nadade boodam vali hich kodum farghi nadasht\n",
        "\n",
        "---\n",
        "mohasebeye miu ro avaz kardam va alan kheili sari tar anjam mishe, addada taghriban ba raveshe ghabl yekie vali khob membership haye koochiktar az ye chizio hazf nemikonam va hmono mizaram >>>>> kheili sari shod\n",
        "\n",
        "---\n",
        "\n",
        "dashtam markaz cherto pert misakhtam!\n"
      ],
      "metadata": {
        "id": "Zf336iRabeIG"
      }
    },
    {
      "cell_type": "code",
      "execution_count": 14,
      "metadata": {
        "id": "zTj-oqgzZmZZ"
      },
      "outputs": [],
      "source": [
        "def calculate_inverted_covariance(covariance):\n",
        "  covariance = np.array(covariance)\n",
        "  l, mygamma = np.linalg.eig(covariance) # calculate eigenvalues and eigenvectors\n",
        "  mylambda = np.zeros((l.shape[0], l.shape[0])) # construct a diagnosal matrix with eigenvalues\n",
        "  # normalize the matirx\n",
        "  sum_of_rows = l.sum()\n",
        "  l = l/sum_of_rows\n",
        "  l = l.astype(np.float32)\n",
        "  l_sorted = np.sort(l)\n",
        "  for i in range(l.shape[0]):\n",
        "    if l[i] < l_sorted[3]:\n",
        "      mylambda[i][i] = np.float32(0)\n",
        "    else:\n",
        "      mylambda[i][i] = np.float32(1/l[i])\n",
        "  icm = (mygamma)@(mylambda)@(mygamma.T) # invert of the covariance matrix\n",
        "  icm = np.float32(icm)\n",
        "  return torch.tensor(icm)"
      ]
    },
    {
      "cell_type": "code",
      "source": [
        "def update_covariances(dataset, centroids, covariances, inverted_covariances, q, classes, gamma, beta):\n",
        "  miu_ik = calculate_membership_matrix(dataset ,centroids, inverted_covariances, gamma)\n",
        "  for i in range(len(centroids)):\n",
        "    temp = class_label_matrix*miu_ik[:, [i]]\n",
        "    cnt = torch.sum(temp, 0).reshape((1, len(class_label_matrix[0]))) \n",
        "    q[i, :] = cnt/torch.sum(cnt)\n",
        "    temp2 = torch.sum(q[i]*class_label_matrix, 1).reshape([len(dataset), 1])*miu_ik[:, [i]]\n",
        "\n",
        "    x_clusteri = dataset - centroids[i]\n",
        "    temp3 = torch.transpose(temp2*x_clusteri, 0, 1)@x_clusteri\n",
        "    covariances[i] = (1-beta)*covariances[i] + beta*temp3/torch.sum(temp2)\n",
        "    inverted_covariances[i] = calculate_inverted_covariance(covariances[i])"
      ],
      "metadata": {
        "id": "7OZ0ZzG4VcUa"
      },
      "execution_count": 15,
      "outputs": []
    },
    {
      "cell_type": "code",
      "execution_count": 16,
      "metadata": {
        "id": "apVhQznhzTHj"
      },
      "outputs": [],
      "source": [
        "def calculate_entropy(dataset, centroids, inverted_covariances, classes, q, gamma):\n",
        "  ent = -1*torch.sum(torch.mean(q*torch.log(q) + 0.00001), axis=0)\n",
        "  return ent"
      ]
    },
    {
      "cell_type": "code",
      "source": [
        "entropy_curve = []\n",
        "for i in range(50):\n",
        "  centroids = update_centroids(dataset, centroids, inverted_covariances, q, gamma, beta)\n",
        "  update_covariances(dataset, centroids, covariances, inverted_covariances, q, classes, gamma, beta)\n",
        "  entropy = calculate_entropy(dataset, centroids, inverted_covariances, classes, q, gamma)\n",
        "  entropy_curve.append(entropy)\n",
        "  print(entropy)"
      ],
      "metadata": {
        "colab": {
          "base_uri": "https://localhost:8080/"
        },
        "id": "5aPduEfIysKl",
        "outputId": "80a742da-4349-41ea-b6e1-341c6b8adc4c"
      },
      "execution_count": 17,
      "outputs": [
        {
          "output_type": "stream",
          "name": "stdout",
          "text": [
            "tensor(0.2260)\n",
            "tensor(0.2153)\n",
            "tensor(0.2121)\n",
            "tensor(0.2094)\n",
            "tensor(0.2061)\n",
            "tensor(0.2037)\n",
            "tensor(0.2019)\n",
            "tensor(0.2002)\n",
            "tensor(0.1992)\n",
            "tensor(0.1980)\n",
            "tensor(0.1969)\n",
            "tensor(0.1955)\n",
            "tensor(0.1946)\n",
            "tensor(0.1930)\n",
            "tensor(0.1920)\n",
            "tensor(0.1909)\n",
            "tensor(0.1904)\n",
            "tensor(0.1898)\n",
            "tensor(0.1895)\n",
            "tensor(0.1887)\n",
            "tensor(0.1883)\n",
            "tensor(0.1878)\n",
            "tensor(0.1876)\n",
            "tensor(0.1872)\n",
            "tensor(0.1872)\n",
            "tensor(0.1869)\n",
            "tensor(0.1871)\n",
            "tensor(0.1869)\n",
            "tensor(0.1874)\n",
            "tensor(0.1873)\n",
            "tensor(0.1878)\n",
            "tensor(0.1879)\n",
            "tensor(0.1884)\n",
            "tensor(0.1885)\n",
            "tensor(0.1888)\n",
            "tensor(0.1888)\n",
            "tensor(0.1890)\n",
            "tensor(0.1890)\n",
            "tensor(0.1890)\n",
            "tensor(0.1891)\n",
            "tensor(0.1891)\n",
            "tensor(0.1893)\n",
            "tensor(0.1892)\n",
            "tensor(0.1894)\n",
            "tensor(0.1892)\n",
            "tensor(0.1894)\n",
            "tensor(0.1893)\n",
            "tensor(0.1895)\n",
            "tensor(0.1893)\n",
            "tensor(0.1895)\n"
          ]
        }
      ]
    },
    {
      "cell_type": "code",
      "source": [
        "import matplotlib.pyplot as plt\n",
        "plt.plot(entropy_curve)\n",
        "plt.show()"
      ],
      "metadata": {
        "colab": {
          "base_uri": "https://localhost:8080/",
          "height": 265
        },
        "id": "wRKevWmunQpa",
        "outputId": "a2e968fd-5d49-4d86-f58a-ac27d57056b5"
      },
      "execution_count": 18,
      "outputs": [
        {
          "output_type": "display_data",
          "data": {
            "text/plain": [
              "<Figure size 432x288 with 1 Axes>"
            ],
            "image/png": "[encoded data removed]"
          },
          "metadata": {
            "needs_background": "light"
          }
        }
      ]
    },
    {
      "cell_type": "code",
      "source": [
        "def calculate_membership(icm, vi, x, gamma):\n",
        "  distance = calculate_mahanalobis_distance(icm, vi, x)\n",
        "  # if torch.exp(-1*gamma*distance) < 0.0001:\n",
        "  #   return torch.array(0.0001)\n",
        "  # else:\n",
        "  return torch.exp(-1*gamma*distance)"
      ],
      "metadata": {
        "id": "4YZGWibUWm69"
      },
      "execution_count": 19,
      "outputs": []
    },
    {
      "cell_type": "code",
      "execution_count": 20,
      "metadata": {
        "colab": {
          "base_uri": "https://localhost:8080/",
          "height": 1000
        },
        "id": "hLxBTTapANKV",
        "outputId": "9e62079f-91f0-4cf8-b20e-fe5831f3c0e5"
      },
      "outputs": [
        {
          "output_type": "stream",
          "name": "stdout",
          "text": [
            "p l a n e\n"
          ]
        },
        {
          "output_type": "display_data",
          "data": {
            "text/plain": [
              "<Figure size 432x288 with 1 Axes>"
            ],
            "image/png": "[encoded data removed]"
          },
          "metadata": {
            "needs_background": "light"
          }
        },
        {
          "output_type": "stream",
          "name": "stdout",
          "text": [
            "window number 1 belongs to cluster 16\n",
            "window number 2 belongs to cluster 23\n",
            "window number 3 belongs to cluster 6\n",
            "window number 4 belongs to cluster 22\n",
            "window number 5 belongs to cluster 44\n",
            "window number 6 belongs to cluster 16\n",
            "window number 7 belongs to cluster 23\n",
            "window number 8 belongs to cluster 38\n",
            "window number 9 belongs to cluster 38\n",
            "window number 10 belongs to cluster 3\n",
            "window number 11 belongs to cluster 3\n",
            "window number 12 belongs to cluster 3\n",
            "window number 13 belongs to cluster 3\n",
            "window number 14 belongs to cluster 3\n",
            "window number 15 belongs to cluster 3\n",
            "window number 16 belongs to cluster 16\n",
            "window number 17 belongs to cluster 23\n",
            "window number 18 belongs to cluster 22\n",
            "window number 19 belongs to cluster 22\n",
            "window number 20 belongs to cluster 3\n",
            "window number 21 belongs to cluster 3\n",
            "window number 22 belongs to cluster 38\n",
            "window number 23 belongs to cluster 38\n",
            "window number 24 belongs to cluster 13\n",
            "window number 25 belongs to cluster 45\n",
            "window number 26 belongs to cluster 3\n",
            "window number 27 belongs to cluster 3\n",
            "window number 28 belongs to cluster 3\n",
            "window number 29 belongs to cluster 3\n",
            "window number 30 belongs to cluster 3\n",
            "window number 31 belongs to cluster 23\n",
            "window number 32 belongs to cluster 6\n",
            "window number 33 belongs to cluster 22\n",
            "window number 34 belongs to cluster 22\n",
            "window number 35 belongs to cluster 16\n",
            "window number 36 belongs to cluster 39\n",
            "window number 37 belongs to cluster 38\n",
            "window number 38 belongs to cluster 3\n",
            "window number 39 belongs to cluster 3\n",
            "window number 40 belongs to cluster 3\n",
            "window number 41 belongs to cluster 3\n",
            "window number 42 belongs to cluster 3\n",
            "window number 43 belongs to cluster 3\n",
            "window number 44 belongs to cluster 3\n",
            "window number 45 belongs to cluster 3\n",
            "window number 46 belongs to cluster 22\n",
            "window number 47 belongs to cluster 56\n",
            "window number 48 belongs to cluster 22\n",
            "window number 49 belongs to cluster 22\n",
            "window number 50 belongs to cluster 1\n",
            "window number 51 belongs to cluster 38\n",
            "window number 52 belongs to cluster 38\n",
            "window number 53 belongs to cluster 45\n",
            "window number 54 belongs to cluster 45\n",
            "window number 55 belongs to cluster 45\n",
            "window number 56 belongs to cluster 45\n",
            "window number 57 belongs to cluster 45\n"
          ]
        }
      ],
      "source": [
        "label = torch.tensor(12)\n",
        "for i, (inputs, labels) in enumerate(testloader):\n",
        "  if label != torch.tensor(12):\n",
        "    break\n",
        "  if labels[0] in [torch.tensor(0), torch.tensor(1), torch.tensor(2)]:\n",
        "    image = inputs[0]\n",
        "    label = labels[0]\n",
        "print(' '.join('%5s' % classes[label]))\n",
        "imshow(torchvision.utils.make_grid(image))\n",
        "\n",
        "windows = image.unfold(1, 3, 2).unfold(2, 3, 2) # unflod(dimension, size, step)\n",
        "test = []\n",
        "for i in range(15):\n",
        "  for j in range(15): \n",
        "    test.append(windows[:, i, j].reshape(27))\n",
        "\n",
        "windows_max_membership = []\n",
        "for w in test:\n",
        "  memberships = []\n",
        "  for i in range(len(centroids)):\n",
        "    memberships.append(calculate_membership(inverted_covariances[i], centroids[i], w, gamma))\n",
        "  test = torch.tensor(memberships)\n",
        "  windows_max_membership.append(torch.argmax(test))\n",
        "\n",
        "\n",
        "for i in range(len(test)):\n",
        "  print(f'window number {i+1} belongs to cluster {windows_max_membership[i] + 1}')\n",
        "  \n"
      ]
    },
    {
      "cell_type": "code",
      "execution_count": 21,
      "metadata": {
        "colab": {
          "base_uri": "https://localhost:8080/"
        },
        "id": "rzUO8fycoml0",
        "outputId": "53e9dce0-d536-4bbd-e08f-d1a390a20d7c"
      },
      "outputs": [
        {
          "output_type": "stream",
          "name": "stdout",
          "text": [
            "[tensor([[0.8456, 0.8429, 0.8405, 0.8427, 0.8402, 0.8389, 0.8340, 0.8335, 0.8311,\n",
            "         0.8654, 0.8627, 0.8602, 0.8626, 0.8602, 0.8585, 0.8524, 0.8517, 0.8490,\n",
            "         0.8853, 0.8826, 0.8800, 0.8816, 0.8793, 0.8776, 0.8694, 0.8688, 0.8659]]), tensor([[0.6317, 0.6577, 0.6315, 0.5554, 0.6149, 0.6224, 0.5406, 0.5541, 0.5678,\n",
            "         0.6214, 0.6491, 0.6237, 0.5452, 0.6072, 0.6139, 0.5316, 0.5468, 0.5592,\n",
            "         0.6139, 0.6427, 0.6171, 0.5325, 0.5962, 0.6041, 0.5157, 0.5328, 0.5464]]), tensor([[0.2639, 0.2677, 0.2722, 0.2667, 0.2712, 0.2737, 0.2700, 0.2737, 0.2777,\n",
            "         0.2216, 0.2260, 0.2301, 0.2255, 0.2303, 0.2321, 0.2295, 0.2335, 0.2364,\n",
            "         0.2290, 0.2334, 0.2367, 0.2313, 0.2365, 0.2378, 0.2328, 0.2371, 0.2391]]), tensor([[0.5621, 0.5615, 0.5601, 0.5633, 0.5625, 0.5615, 0.5616, 0.5627, 0.5621,\n",
            "         0.5621, 0.5613, 0.5601, 0.5631, 0.5621, 0.5612, 0.5611, 0.5621, 0.5615,\n",
            "         0.5552, 0.5540, 0.5525, 0.5558, 0.5544, 0.5531, 0.5533, 0.5539, 0.5530]]), tensor([[0.4291, 0.4393, 0.4462, 0.2841, 0.2832, 0.2890, 0.2519, 0.2520, 0.2549,\n",
            "         0.4223, 0.4337, 0.4399, 0.2685, 0.2683, 0.2744, 0.2372, 0.2373, 0.2403,\n",
            "         0.4348, 0.4458, 0.4501, 0.2802, 0.2807, 0.2847, 0.2483, 0.2490, 0.2507]]), tensor([[0.5580, 0.5575, 0.5562, 0.5592, 0.5585, 0.5575, 0.5577, 0.5588, 0.5582,\n",
            "         0.5581, 0.5573, 0.5562, 0.5591, 0.5582, 0.5572, 0.5572, 0.5582, 0.5576,\n",
            "         0.5513, 0.5502, 0.5487, 0.5520, 0.5506, 0.5493, 0.5496, 0.5502, 0.5492]]), tensor([[0.5815, 0.6528, 0.6703, 0.6634, 0.6693, 0.6647, 0.6698, 0.6634, 0.6572,\n",
            "         0.5683, 0.6413, 0.6584, 0.6515, 0.6576, 0.6519, 0.6560, 0.6496, 0.6431,\n",
            "         0.5520, 0.6273, 0.6459, 0.6392, 0.6458, 0.6404, 0.6461, 0.6388, 0.6306]]), tensor([[0.1253, 0.1253, 0.1262, 0.1221, 0.1258, 0.1282, 0.1355, 0.1370, 0.1378,\n",
            "         0.1268, 0.1268, 0.1279, 0.1233, 0.1267, 0.1290, 0.1360, 0.1374, 0.1382,\n",
            "         0.1070, 0.1072, 0.1087, 0.1051, 0.1084, 0.1112, 0.1173, 0.1194, 0.1210]]), tensor([[0.1494, 0.1463, 0.1486, 0.1875, 0.1875, 0.1935, 0.4262, 0.4308, 0.4278,\n",
            "         0.1467, 0.1434, 0.1449, 0.1898, 0.1896, 0.1951, 0.4287, 0.4333, 0.4304,\n",
            "         0.1500, 0.1471, 0.1482, 0.1916, 0.1915, 0.1963, 0.4211, 0.4255, 0.4225]]), tensor([[0.3734, 0.3839, 0.3914, 0.3903, 0.4065, 0.4159, 0.4156, 0.4328, 0.4424,\n",
            "         0.3518, 0.3618, 0.3716, 0.3772, 0.3946, 0.4080, 0.4120, 0.4316, 0.4448,\n",
            "         0.2375, 0.2426, 0.2470, 0.2303, 0.2385, 0.2441, 0.2401, 0.2498, 0.2556]]), tensor([[0.5354, 0.5381, 0.5399, 0.5258, 0.5282, 0.5304, 0.5141, 0.5171, 0.5214,\n",
            "         0.6329, 0.6363, 0.6368, 0.6248, 0.6276, 0.6292, 0.6159, 0.6196, 0.6216,\n",
            "         0.2362, 0.2361, 0.2387, 0.2260, 0.2251, 0.2284, 0.2167, 0.2172, 0.2199]]), tensor([[0.1875, 0.1811, 0.1853, 0.1882, 0.1842, 0.1876, 0.1947, 0.1895, 0.1915,\n",
            "         0.3084, 0.3083, 0.3100, 0.3109, 0.3132, 0.3141, 0.3178, 0.3181, 0.3181,\n",
            "         0.0974, 0.0915, 0.0927, 0.0959, 0.0919, 0.0933, 0.0996, 0.0949, 0.0958]]), tensor([[0.2697, 0.2639, 0.2598, 0.2734, 0.2674, 0.2635, 0.2733, 0.2669, 0.2630,\n",
            "         0.5296, 0.5291, 0.5276, 0.5335, 0.5331, 0.5319, 0.5348, 0.5341, 0.5329,\n",
            "         0.5359, 0.5350, 0.5331, 0.5426, 0.5408, 0.5392, 0.5406, 0.5384, 0.5377]]), tensor([[0.4114, 0.4111, 0.4153, 0.4217, 0.4181, 0.4208, 0.4329, 0.4288, 0.4272,\n",
            "         0.4370, 0.4399, 0.4418, 0.4333, 0.4301, 0.4318, 0.4317, 0.4278, 0.4262,\n",
            "         0.2614, 0.2604, 0.2645, 0.2768, 0.2734, 0.2737, 0.2949, 0.2909, 0.2886]]), tensor([[0.4955, 0.4995, 0.4994, 0.4954, 0.5001, 0.4995, 0.4948, 0.4979, 0.5000,\n",
            "         0.4673, 0.4700, 0.4703, 0.4672, 0.4699, 0.4699, 0.4680, 0.4686, 0.4707,\n",
            "         0.3013, 0.3021, 0.3013, 0.2992, 0.2999, 0.2985, 0.2988, 0.2975, 0.2995]]), tensor([[0.8456, 0.8429, 0.8405, 0.8427, 0.8402, 0.8389, 0.8340, 0.8335, 0.8311,\n",
            "         0.8654, 0.8627, 0.8602, 0.8626, 0.8602, 0.8585, 0.8524, 0.8517, 0.8490,\n",
            "         0.8853, 0.8826, 0.8800, 0.8816, 0.8793, 0.8776, 0.8694, 0.8688, 0.8659]]), tensor([[0.4456, 0.5806, 0.5772, 0.4406, 0.5694, 0.5742, 0.4464, 0.5447, 0.5562,\n",
            "         0.4267, 0.5595, 0.5552, 0.4222, 0.5490, 0.5524, 0.4269, 0.5230, 0.5331,\n",
            "         0.4089, 0.5396, 0.5337, 0.4036, 0.5280, 0.5300, 0.4066, 0.5015, 0.5107]]), tensor([[0.7010, 0.6961, 0.6976, 0.7130, 0.7016, 0.6504, 0.6932, 0.6788, 0.6261,\n",
            "         0.6898, 0.6845, 0.6843, 0.7011, 0.6896, 0.6363, 0.6809, 0.6669, 0.6114,\n",
            "         0.6821, 0.6755, 0.6740, 0.6933, 0.6802, 0.6237, 0.6710, 0.6554, 0.5958]]), tensor([[0.3183, 0.3059, 0.3203, 0.3736, 0.3129, 0.3063, 0.3817, 0.3625, 0.3319,\n",
            "         0.3138, 0.3009, 0.3151, 0.3659, 0.3045, 0.2989, 0.3726, 0.3525, 0.3228,\n",
            "         0.2829, 0.2693, 0.2833, 0.3362, 0.2744, 0.2691, 0.3418, 0.3218, 0.2928]]), tensor([[0.6205, 0.6096, 0.5265, 0.6243, 0.6210, 0.5994, 0.6149, 0.6093, 0.6115,\n",
            "         0.6224, 0.6091, 0.5198, 0.6270, 0.6222, 0.5959, 0.6168, 0.6107, 0.6111,\n",
            "         0.6094, 0.5935, 0.5002, 0.6133, 0.6076, 0.5785, 0.6034, 0.5971, 0.5960]]), tensor([[0.6726, 0.6178, 0.4998, 0.6799, 0.6100, 0.4979, 0.6539, 0.6006, 0.5069,\n",
            "         0.6312, 0.5798, 0.4682, 0.6387, 0.5726, 0.4663, 0.6128, 0.5643, 0.4768,\n",
            "         0.6059, 0.5539, 0.4431, 0.6118, 0.5458, 0.4405, 0.5857, 0.5372, 0.4502]]), tensor([[0.6244, 0.6233, 0.6217, 0.6256, 0.6246, 0.6235, 0.6222, 0.6235, 0.6230,\n",
            "         0.6227, 0.6217, 0.6203, 0.6238, 0.6228, 0.6221, 0.6200, 0.6214, 0.6212,\n",
            "         0.6141, 0.6128, 0.6113, 0.6149, 0.6136, 0.6126, 0.6107, 0.6119, 0.6114]]), tensor([[0.8456, 0.8429, 0.8405, 0.8427, 0.8402, 0.8389, 0.8340, 0.8335, 0.8311,\n",
            "         0.8654, 0.8627, 0.8602, 0.8626, 0.8601, 0.8585, 0.8524, 0.8517, 0.8490,\n",
            "         0.8853, 0.8826, 0.8800, 0.8816, 0.8793, 0.8776, 0.8694, 0.8688, 0.8659]]), tensor([[0.4626, 0.3855, 0.3759, 0.4621, 0.4507, 0.3844, 0.4561, 0.4632, 0.4223,\n",
            "         0.4035, 0.3307, 0.3270, 0.4012, 0.3929, 0.3311, 0.3923, 0.4025, 0.3652,\n",
            "         0.3466, 0.2802, 0.2776, 0.3402, 0.3380, 0.2799, 0.3284, 0.3416, 0.3087]]), tensor([[0.3935, 0.4412, 0.4035, 0.4042, 0.4025, 0.4017, 0.4049, 0.4071, 0.4042,\n",
            "         0.3748, 0.4236, 0.3883, 0.3869, 0.3852, 0.3861, 0.3870, 0.3887, 0.3870,\n",
            "         0.3454, 0.3930, 0.3580, 0.3573, 0.3551, 0.3559, 0.3575, 0.3591, 0.3575]]), tensor([[0.7846, 0.7848, 0.7800, 0.7378, 0.7467, 0.7502, 0.5174, 0.5254, 0.5510,\n",
            "         0.8037, 0.8050, 0.8012, 0.7529, 0.7616, 0.7663, 0.5231, 0.5305, 0.5564,\n",
            "         0.8170, 0.8185, 0.8151, 0.7723, 0.7804, 0.7849, 0.5437, 0.5497, 0.5756]]), tensor([[0.2977, 0.2968, 0.3049, 0.2747, 0.2815, 0.3463, 0.2919, 0.3092, 0.3641,\n",
            "         0.2982, 0.2950, 0.2982, 0.2748, 0.2792, 0.3378, 0.2908, 0.3054, 0.3544,\n",
            "         0.2880, 0.2839, 0.2869, 0.2643, 0.2667, 0.3246, 0.2797, 0.2934, 0.3425]]), tensor([[0.3180, 0.3258, 0.3367, 0.4811, 0.4888, 0.4935, 0.5476, 0.5551, 0.5562,\n",
            "         0.3149, 0.3229, 0.3354, 0.4836, 0.4918, 0.4975, 0.5579, 0.5652, 0.5673,\n",
            "         0.3105, 0.3197, 0.3329, 0.4836, 0.4925, 0.4987, 0.5627, 0.5695, 0.5712]]), tensor([[0.5468, 0.6033, 0.6396, 0.5527, 0.6089, 0.6423, 0.5627, 0.6003, 0.6213,\n",
            "         0.5206, 0.5805, 0.6182, 0.5288, 0.5876, 0.6217, 0.5403, 0.5799, 0.6012,\n",
            "         0.5031, 0.5678, 0.6080, 0.5116, 0.5749, 0.6114, 0.5233, 0.5656, 0.5891]]), tensor([[0.3786, 0.3781, 0.3785, 0.3849, 0.3835, 0.3838, 0.3928, 0.3921, 0.3918,\n",
            "         0.5490, 0.5485, 0.5487, 0.5544, 0.5534, 0.5543, 0.5604, 0.5597, 0.5601,\n",
            "         0.8936, 0.8935, 0.8928, 0.8954, 0.8959, 0.8966, 0.9000, 0.9003, 0.9005]]), tensor([[0.3483, 0.3972, 0.5119, 0.3507, 0.4114, 0.5386, 0.3780, 0.4302, 0.5243,\n",
            "         0.3159, 0.3650, 0.4783, 0.3172, 0.3781, 0.5032, 0.3434, 0.3976, 0.4892,\n",
            "         0.2831, 0.3295, 0.4413, 0.2854, 0.3439, 0.4662, 0.3126, 0.3648, 0.4534]]), tensor([[0.5907, 0.4387, 0.4439, 0.5700, 0.4406, 0.4455, 0.5412, 0.4368, 0.4438,\n",
            "         0.5714, 0.4212, 0.4259, 0.5507, 0.4244, 0.4281, 0.5215, 0.4204, 0.4256,\n",
            "         0.5555, 0.4145, 0.4179, 0.5350, 0.4177, 0.4193, 0.5062, 0.4139, 0.4187]]), tensor([[0.3007, 0.2822, 0.3880, 0.3128, 0.3008, 0.3598, 0.3194, 0.3196, 0.3474,\n",
            "         0.2974, 0.2753, 0.3753, 0.3106, 0.2939, 0.3478, 0.3168, 0.3132, 0.3369,\n",
            "         0.2821, 0.2609, 0.3535, 0.2913, 0.2783, 0.3271, 0.2961, 0.2957, 0.3161]]), tensor([[0.2735, 0.2989, 0.3639, 0.2890, 0.3025, 0.3025, 0.3020, 0.3021, 0.3043,\n",
            "         0.2607, 0.2856, 0.3508, 0.2773, 0.2898, 0.2904, 0.2914, 0.2910, 0.2932,\n",
            "         0.2268, 0.2515, 0.3162, 0.2440, 0.2569, 0.2569, 0.2581, 0.2575, 0.2591]]), tensor([[0.8080, 0.8147, 0.8241, 0.8125, 0.8219, 0.8310, 0.8094, 0.8196, 0.8307,\n",
            "         0.6662, 0.6735, 0.6872, 0.6703, 0.6802, 0.6950, 0.6706, 0.6815, 0.6968,\n",
            "         0.6762, 0.6860, 0.7017, 0.6814, 0.6945, 0.7103, 0.6816, 0.6946, 0.7105]]), tensor([[0.6103, 0.6093, 0.6076, 0.6115, 0.6105, 0.6093, 0.6085, 0.6097, 0.6092,\n",
            "         0.6091, 0.6081, 0.6066, 0.6101, 0.6091, 0.6082, 0.6067, 0.6080, 0.6077,\n",
            "         0.6006, 0.5993, 0.5977, 0.6012, 0.5999, 0.5988, 0.5974, 0.5985, 0.5979]]), tensor([[0.7045, 0.6896, 0.6810, 0.2680, 0.2619, 0.2623, 0.1380, 0.1475, 0.1542,\n",
            "         0.7147, 0.7005, 0.6926, 0.2765, 0.2710, 0.2716, 0.1463, 0.1553, 0.1616,\n",
            "         0.7301, 0.7159, 0.7071, 0.2885, 0.2823, 0.2816, 0.1592, 0.1663, 0.1713]]), tensor([[0.2296, 0.1958, 0.1895, 0.2437, 0.2038, 0.1980, 0.2693, 0.2208, 0.2118,\n",
            "         0.1785, 0.1582, 0.1541, 0.1898, 0.1645, 0.1610, 0.2115, 0.1762, 0.1710,\n",
            "         0.1466, 0.1344, 0.1329, 0.1542, 0.1377, 0.1376, 0.1727, 0.1452, 0.1434]]), tensor([[0.3129, 0.3414, 0.3753, 0.3181, 0.3471, 0.3786, 0.3268, 0.3562, 0.3864,\n",
            "         0.2909, 0.3045, 0.3232, 0.2937, 0.3075, 0.3238, 0.2986, 0.3135, 0.3293,\n",
            "         0.1607, 0.1565, 0.1541, 0.1603, 0.1555, 0.1500, 0.1618, 0.1587, 0.1536]]), tensor([[0.8456, 0.8429, 0.8405, 0.8427, 0.8402, 0.8389, 0.8340, 0.8335, 0.8311,\n",
            "         0.8654, 0.8627, 0.8602, 0.8626, 0.8601, 0.8585, 0.8524, 0.8517, 0.8490,\n",
            "         0.8853, 0.8826, 0.8800, 0.8816, 0.8793, 0.8776, 0.8694, 0.8688, 0.8659]]), tensor([[0.2994, 0.3028, 0.3099, 0.2979, 0.3026, 0.3151, 0.3016, 0.3075, 0.3195,\n",
            "         0.2979, 0.2877, 0.2818, 0.2981, 0.2863, 0.2837, 0.2985, 0.2879, 0.2863,\n",
            "         0.1954, 0.1991, 0.1996, 0.1941, 0.1979, 0.2030, 0.1966, 0.2005, 0.2060]]), tensor([[0.6633, 0.6505, 0.6274, 0.5468, 0.5086, 0.4580, 0.3551, 0.3178, 0.2838,\n",
            "         0.6719, 0.6599, 0.6376, 0.5514, 0.5143, 0.4640, 0.3533, 0.3158, 0.2812,\n",
            "         0.6630, 0.6511, 0.6293, 0.5406, 0.5035, 0.4537, 0.3410, 0.3038, 0.2702]]), tensor([[0.2403, 0.2996, 0.3210, 0.2473, 0.2931, 0.3220, 0.2536, 0.2898, 0.3160,\n",
            "         0.2115, 0.2608, 0.2787, 0.2181, 0.2546, 0.2796, 0.2226, 0.2502, 0.2731,\n",
            "         0.1842, 0.2212, 0.2346, 0.1896, 0.2159, 0.2369, 0.1949, 0.2147, 0.2332]]), tensor([[0.2777, 0.2717, 0.2670, 0.2717, 0.2665, 0.2641, 0.2708, 0.2684, 0.2748,\n",
            "         0.2553, 0.2580, 0.2670, 0.2494, 0.2529, 0.2645, 0.2528, 0.2573, 0.2756,\n",
            "         0.2132, 0.2065, 0.2010, 0.2109, 0.2049, 0.2004, 0.2143, 0.2091, 0.2117]]), tensor([[0.4616, 0.4607, 0.4591, 0.4677, 0.4666, 0.4650, 0.4750, 0.4736, 0.4719,\n",
            "         0.5053, 0.5037, 0.5012, 0.5089, 0.5064, 0.5048, 0.5128, 0.5107, 0.5082,\n",
            "         0.7040, 0.7037, 0.7013, 0.7059, 0.7058, 0.7040, 0.7043, 0.7041, 0.7016]]), tensor([[0.5456, 0.4806, 0.4951, 0.5408, 0.4922, 0.4984, 0.5389, 0.5159, 0.5102,\n",
            "         0.5222, 0.4586, 0.4741, 0.5179, 0.4695, 0.4771, 0.5180, 0.4943, 0.4891,\n",
            "         0.5063, 0.4417, 0.4561, 0.5032, 0.4528, 0.4596, 0.5025, 0.4767, 0.4722]]), tensor([[0.6726, 0.6619, 0.6588, 0.6680, 0.6625, 0.6604, 0.6619, 0.6662, 0.6608,\n",
            "         0.5851, 0.5982, 0.6201, 0.5787, 0.5966, 0.6195, 0.5742, 0.5977, 0.6143,\n",
            "         0.5501, 0.5686, 0.6008, 0.5440, 0.5665, 0.5987, 0.5381, 0.5663, 0.5910]]), tensor([[0.7768, 0.7412, 0.7173, 0.7782, 0.7416, 0.7203, 0.7772, 0.7442, 0.7223,\n",
            "         0.6794, 0.6233, 0.5820, 0.6836, 0.6263, 0.5865, 0.6850, 0.6336, 0.5935,\n",
            "         0.6664, 0.6017, 0.5538, 0.6709, 0.6069, 0.5596, 0.6730, 0.6154, 0.5673]]), tensor([[0.3969, 0.3778, 0.3608, 0.4015, 0.3853, 0.3693, 0.4051, 0.3898, 0.3770,\n",
            "         0.3434, 0.3334, 0.3200, 0.3463, 0.3400, 0.3272, 0.3479, 0.3422, 0.3326,\n",
            "         0.1656, 0.1719, 0.1762, 0.1650, 0.1750, 0.1787, 0.1653, 0.1729, 0.1781]]), tensor([[0.3400, 0.3689, 0.3442, 0.3409, 0.3924, 0.3411, 0.3418, 0.3405, 0.3314,\n",
            "         0.3245, 0.3508, 0.3260, 0.3257, 0.3751, 0.3232, 0.3266, 0.3249, 0.3157,\n",
            "         0.2923, 0.3157, 0.2903, 0.2928, 0.3391, 0.2870, 0.2949, 0.2920, 0.2823]]), tensor([[0.4095, 0.3451, 0.3184, 0.3321, 0.3411, 0.3416, 0.3257, 0.3378, 0.3444,\n",
            "         0.3872, 0.3256, 0.3009, 0.3119, 0.3217, 0.3240, 0.3063, 0.3184, 0.3262,\n",
            "         0.3628, 0.3013, 0.2781, 0.2871, 0.2968, 0.2998, 0.2822, 0.2938, 0.3014]]), tensor([[0.3753, 0.3752, 0.3752, 0.3873, 0.3873, 0.3876, 0.4010, 0.4010, 0.4013,\n",
            "         0.6239, 0.6243, 0.6250, 0.6341, 0.6345, 0.6353, 0.6452, 0.6453, 0.6465,\n",
            "         0.8469, 0.8480, 0.8493, 0.8520, 0.8526, 0.8540, 0.8569, 0.8573, 0.8593]]), tensor([[0.4057, 0.3813, 0.3521, 0.4048, 0.3809, 0.3538, 0.4010, 0.3794, 0.3554,\n",
            "         0.3940, 0.3697, 0.3388, 0.3913, 0.3678, 0.3383, 0.3857, 0.3642, 0.3376,\n",
            "         0.3648, 0.3444, 0.3221, 0.3616, 0.3420, 0.3217, 0.3562, 0.3391, 0.3207]]), tensor([[0.6204, 0.6194, 0.6177, 0.6217, 0.6206, 0.6195, 0.6184, 0.6196, 0.6191,\n",
            "         0.6188, 0.6178, 0.6164, 0.6199, 0.6189, 0.6181, 0.6163, 0.6177, 0.6174,\n",
            "         0.6103, 0.6090, 0.6074, 0.6110, 0.6097, 0.6087, 0.6069, 0.6081, 0.6076]]), tensor([[0.3644, 0.3673, 0.3670, 0.3534, 0.3549, 0.3564, 0.3521, 0.3527, 0.3545,\n",
            "         0.5284, 0.5267, 0.5232, 0.5262, 0.5247, 0.5222, 0.5271, 0.5265, 0.5251,\n",
            "         0.5477, 0.5463, 0.5431, 0.5400, 0.5389, 0.5368, 0.5386, 0.5367, 0.5350]]), tensor([[0.6031, 0.6021, 0.6004, 0.6043, 0.6032, 0.6021, 0.6015, 0.6026, 0.6021,\n",
            "         0.6021, 0.6011, 0.5996, 0.6031, 0.6020, 0.6011, 0.5999, 0.6011, 0.6007,\n",
            "         0.5937, 0.5924, 0.5908, 0.5943, 0.5930, 0.5918, 0.5907, 0.5917, 0.5910]]), tensor([[0.1201, 0.1216, 0.1239, 0.1226, 0.1242, 0.1251, 0.1311, 0.1339, 0.1432,\n",
            "         0.1213, 0.1227, 0.1250, 0.1232, 0.1245, 0.1257, 0.1312, 0.1336, 0.1423,\n",
            "         0.1014, 0.1034, 0.1062, 0.1046, 0.1062, 0.1074, 0.1131, 0.1152, 0.1224]])]\n"
          ]
        }
      ],
      "source": [
        "print(centroids)"
      ]
    }
  ],
  "metadata": {
    "colab": {
      "collapsed_sections": [],
      "name": "Supervised_Fuzzy_Clustering.ipynb",
      "provenance": [],
      "authorship_tag": "ABX9TyPhD5MQqVTJD7lZ0QpXagj5",
      "include_colab_link": true
    },
    "kernelspec": {
      "display_name": "Python 3",
      "name": "python3"
    },
    "language_info": {
      "name": "python"
    },
    "widgets": {
      "application/vnd.jupyter.widget-state+json": {
        "80685d0ec05349ba8f58df3831c8ebbc": {
          "model_module": "@jupyter-widgets/controls",
          "model_name": "HBoxModel",
          "model_module_version": "1.5.0",
          "state": {
            "_dom_classes": [],
            "_model_module": "@jupyter-widgets/controls",
            "_model_module_version": "1.5.0",
            "_model_name": "HBoxModel",
            "_view_count": null,
            "_view_module": "@jupyter-widgets/controls",
            "_view_module_version": "1.5.0",
            "_view_name": "HBoxView",
            "box_style": "",
            "children": [
              "IPY_MODEL_848d39076f614765b00a563d33eda9a7",
              "IPY_MODEL_98f4dce630754f44a0db66b601e80b20",
              "IPY_MODEL_fd58ce3e53444e7c95cf6d05b7d66b06"
            ],
            "layout": "IPY_MODEL_6e215b433cd84f5ba02c0f57471de052"
          }
        },
        "848d39076f614765b00a563d33eda9a7": {
          "model_module": "@jupyter-widgets/controls",
          "model_name": "HTMLModel",
          "model_module_version": "1.5.0",
          "state": {
            "_dom_classes": [],
            "_model_module": "@jupyter-widgets/controls",
            "_model_module_version": "1.5.0",
            "_model_name": "HTMLModel",
            "_view_count": null,
            "_view_module": "@jupyter-widgets/controls",
            "_view_module_version": "1.5.0",
            "_view_name": "HTMLView",
            "description": "",
            "description_tooltip": null,
            "layout": "IPY_MODEL_627bd31aef7b4f6593cc088d61067390",
            "placeholder": "​",
            "style": "IPY_MODEL_eff836b64128433299c76bae395246c1",
            "value": ""
          }
        },
        "98f4dce630754f44a0db66b601e80b20": {
          "model_module": "@jupyter-widgets/controls",
          "model_name": "FloatProgressModel",
          "model_module_version": "1.5.0",
          "state": {
            "_dom_classes": [],
            "_model_module": "@jupyter-widgets/controls",
            "_model_module_version": "1.5.0",
            "_model_name": "FloatProgressModel",
            "_view_count": null,
            "_view_module": "@jupyter-widgets/controls",
            "_view_module_version": "1.5.0",
            "_view_name": "ProgressView",
            "bar_style": "success",
            "description": "",
            "description_tooltip": null,
            "layout": "IPY_MODEL_e42f8aab4b8243e6953811256c1cd7d4",
            "max": 170498071,
            "min": 0,
            "orientation": "horizontal",
            "style": "IPY_MODEL_af682d6044244e7a810184082c721ee7",
            "value": 170498071
          }
        },
        "fd58ce3e53444e7c95cf6d05b7d66b06": {
          "model_module": "@jupyter-widgets/controls",
          "model_name": "HTMLModel",
          "model_module_version": "1.5.0",
          "state": {
            "_dom_classes": [],
            "_model_module": "@jupyter-widgets/controls",
            "_model_module_version": "1.5.0",
            "_model_name": "HTMLModel",
            "_view_count": null,
            "_view_module": "@jupyter-widgets/controls",
            "_view_module_version": "1.5.0",
            "_view_name": "HTMLView",
            "description": "",
            "description_tooltip": null,
            "layout": "IPY_MODEL_3e5c92a2c50349c88073fcf1ef5eec07",
            "placeholder": "​",
            "style": "IPY_MODEL_b8c12f5ec6104b23b4c28e7e9a041776",
            "value": " 170499072/? [00:02&lt;00:00, 49422537.47it/s]"
          }
        },
        "6e215b433cd84f5ba02c0f57471de052": {
          "model_module": "@jupyter-widgets/base",
          "model_name": "LayoutModel",
          "model_module_version": "1.2.0",
          "state": {
            "_model_module": "@jupyter-widgets/base",
            "_model_module_version": "1.2.0",
            "_model_name": "LayoutModel",
            "_view_count": null,
            "_view_module": "@jupyter-widgets/base",
            "_view_module_version": "1.2.0",
            "_view_name": "LayoutView",
            "align_content": null,
            "align_items": null,
            "align_self": null,
            "border": null,
            "bottom": null,
            "display": null,
            "flex": null,
            "flex_flow": null,
            "grid_area": null,
            "grid_auto_columns": null,
            "grid_auto_flow": null,
            "grid_auto_rows": null,
            "grid_column": null,
            "grid_gap": null,
            "grid_row": null,
            "grid_template_areas": null,
            "grid_template_columns": null,
            "grid_template_rows": null,
            "height": null,
            "justify_content": null,
            "justify_items": null,
            "left": null,
            "margin": null,
            "max_height": null,
            "max_width": null,
            "min_height": null,
            "min_width": null,
            "object_fit": null,
            "object_position": null,
            "order": null,
            "overflow": null,
            "overflow_x": null,
            "overflow_y": null,
            "padding": null,
            "right": null,
            "top": null,
            "visibility": null,
            "width": null
          }
        },
        "627bd31aef7b4f6593cc088d61067390": {
          "model_module": "@jupyter-widgets/base",
          "model_name": "LayoutModel",
          "model_module_version": "1.2.0",
          "state": {
            "_model_module": "@jupyter-widgets/base",
            "_model_module_version": "1.2.0",
            "_model_name": "LayoutModel",
            "_view_count": null,
            "_view_module": "@jupyter-widgets/base",
            "_view_module_version": "1.2.0",
            "_view_name": "LayoutView",
            "align_content": null,
            "align_items": null,
            "align_self": null,
            "border": null,
            "bottom": null,
            "display": null,
            "flex": null,
            "flex_flow": null,
            "grid_area": null,
            "grid_auto_columns": null,
            "grid_auto_flow": null,
            "grid_auto_rows": null,
            "grid_column": null,
            "grid_gap": null,
            "grid_row": null,
            "grid_template_areas": null,
            "grid_template_columns": null,
            "grid_template_rows": null,
            "height": null,
            "justify_content": null,
            "justify_items": null,
            "left": null,
            "margin": null,
            "max_height": null,
            "max_width": null,
            "min_height": null,
            "min_width": null,
            "object_fit": null,
            "object_position": null,
            "order": null,
            "overflow": null,
            "overflow_x": null,
            "overflow_y": null,
            "padding": null,
            "right": null,
            "top": null,
            "visibility": null,
            "width": null
          }
        },
        "eff836b64128433299c76bae395246c1": {
          "model_module": "@jupyter-widgets/controls",
          "model_name": "DescriptionStyleModel",
          "model_module_version": "1.5.0",
          "state": {
            "_model_module": "@jupyter-widgets/controls",
            "_model_module_version": "1.5.0",
            "_model_name": "DescriptionStyleModel",
            "_view_count": null,
            "_view_module": "@jupyter-widgets/base",
            "_view_module_version": "1.2.0",
            "_view_name": "StyleView",
            "description_width": ""
          }
        },
        "e42f8aab4b8243e6953811256c1cd7d4": {
          "model_module": "@jupyter-widgets/base",
          "model_name": "LayoutModel",
          "model_module_version": "1.2.0",
          "state": {
            "_model_module": "@jupyter-widgets/base",
            "_model_module_version": "1.2.0",
            "_model_name": "LayoutModel",
            "_view_count": null,
            "_view_module": "@jupyter-widgets/base",
            "_view_module_version": "1.2.0",
            "_view_name": "LayoutView",
            "align_content": null,
            "align_items": null,
            "align_self": null,
            "border": null,
            "bottom": null,
            "display": null,
            "flex": null,
            "flex_flow": null,
            "grid_area": null,
            "grid_auto_columns": null,
            "grid_auto_flow": null,
            "grid_auto_rows": null,
            "grid_column": null,
            "grid_gap": null,
            "grid_row": null,
            "grid_template_areas": null,
            "grid_template_columns": null,
            "grid_template_rows": null,
            "height": null,
            "justify_content": null,
            "justify_items": null,
            "left": null,
            "margin": null,
            "max_height": null,
            "max_width": null,
            "min_height": null,
            "min_width": null,
            "object_fit": null,
            "object_position": null,
            "order": null,
            "overflow": null,
            "overflow_x": null,
            "overflow_y": null,
            "padding": null,
            "right": null,
            "top": null,
            "visibility": null,
            "width": null
          }
        },
        "af682d6044244e7a810184082c721ee7": {
          "model_module": "@jupyter-widgets/controls",
          "model_name": "ProgressStyleModel",
          "model_module_version": "1.5.0",
          "state": {
            "_model_module": "@jupyter-widgets/controls",
            "_model_module_version": "1.5.0",
            "_model_name": "ProgressStyleModel",
            "_view_count": null,
            "_view_module": "@jupyter-widgets/base",
            "_view_module_version": "1.2.0",
            "_view_name": "StyleView",
            "bar_color": null,
            "description_width": ""
          }
        },
        "3e5c92a2c50349c88073fcf1ef5eec07": {
          "model_module": "@jupyter-widgets/base",
          "model_name": "LayoutModel",
          "model_module_version": "1.2.0",
          "state": {
            "_model_module": "@jupyter-widgets/base",
            "_model_module_version": "1.2.0",
            "_model_name": "LayoutModel",
            "_view_count": null,
            "_view_module": "@jupyter-widgets/base",
            "_view_module_version": "1.2.0",
            "_view_name": "LayoutView",
            "align_content": null,
            "align_items": null,
            "align_self": null,
            "border": null,
            "bottom": null,
            "display": null,
            "flex": null,
            "flex_flow": null,
            "grid_area": null,
            "grid_auto_columns": null,
            "grid_auto_flow": null,
            "grid_auto_rows": null,
            "grid_column": null,
            "grid_gap": null,
            "grid_row": null,
            "grid_template_areas": null,
            "grid_template_columns": null,
            "grid_template_rows": null,
            "height": null,
            "justify_content": null,
            "justify_items": null,
            "left": null,
            "margin": null,
            "max_height": null,
            "max_width": null,
            "min_height": null,
            "min_width": null,
            "object_fit": null,
            "object_position": null,
            "order": null,
            "overflow": null,
            "overflow_x": null,
            "overflow_y": null,
            "padding": null,
            "right": null,
            "top": null,
            "visibility": null,
            "width": null
          }
        },
        "b8c12f5ec6104b23b4c28e7e9a041776": {
          "model_module": "@jupyter-widgets/controls",
          "model_name": "DescriptionStyleModel",
          "model_module_version": "1.5.0",
          "state": {
            "_model_module": "@jupyter-widgets/controls",
            "_model_module_version": "1.5.0",
            "_model_name": "DescriptionStyleModel",
            "_view_count": null,
            "_view_module": "@jupyter-widgets/base",
            "_view_module_version": "1.2.0",
            "_view_name": "StyleView",
            "description_width": ""
          }
        }
      }
    }
  },
  "nbformat": 4,
  "nbformat_minor": 0
}