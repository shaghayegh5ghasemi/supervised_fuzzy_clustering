{
  "cells": [
    {
      "cell_type": "markdown",
      "metadata": {
        "id": "view-in-github",
        "colab_type": "text"
      },
      "source": [
        "<a href=\"https://colab.research.google.com/github/shaghayegh5ghasemi/supervised_fuzzy_clustering/blob/main/Supervised_Fuzzy_Clustering.ipynb\" target=\"_parent\"><img src=\"https://colab.research.google.com/assets/colab-badge.svg\" alt=\"Open In Colab\"/></a>"
      ]
    },
    {
      "cell_type": "code",
      "execution_count": null,
      "metadata": {
        "id": "1J7dz3ovFH3t"
      },
      "outputs": [],
      "source": [
        "import torch\n",
        "import torchvision\n",
        "import torchvision.transforms as transforms\n",
        "import torchvision.datasets as datasets\n",
        "from torch.utils.data import DataLoader\n",
        "import matplotlib.pyplot as plt\n",
        "import torch.nn as nn\n",
        "import torch.nn.functional as f\n",
        "import numpy as np"
      ]
    },
    {
      "cell_type": "markdown",
      "source": [
        "\n",
        "# Initial Images"
      ],
      "metadata": {
        "id": "jtgSanco8_BF"
      }
    },
    {
      "cell_type": "code",
      "execution_count": null,
      "metadata": {
        "colab": {
          "base_uri": "https://localhost:8080/"
        },
        "id": "wf288Mi7Xzqi",
        "outputId": "07dd0746-6e73-4541-fcf7-7d16acc2dc5c"
      },
      "outputs": [
        {
          "output_type": "stream",
          "name": "stdout",
          "text": [
            "Files already downloaded and verified\n",
            "Files already downloaded and verified\n"
          ]
        }
      ],
      "source": [
        "# load data\n",
        "trainset = datasets.CIFAR10(root='dataset/', train=True, transform=transforms.ToTensor(), download=True)\n",
        "trainloader = DataLoader(dataset=trainset, batch_size=1, shuffle=True)\n",
        "testset = datasets.CIFAR10(root='dataset/', train=False, transform=transforms.ToTensor(), download=True)\n",
        "testloader = DataLoader(dataset=testset, batch_size=1, shuffle=True)"
      ]
    },
    {
      "cell_type": "code",
      "source": [
        "def get_part_of_dataset(trainloader):\n",
        "  dataset = []\n",
        "  labels = []\n",
        "  c = [0]*10\n",
        "  for i, (input, label) in enumerate(trainloader):\n",
        "    if all(x == 16 for x in c):\n",
        "      break\n",
        "    if c[label[0]] == 16:\n",
        "      continue\n",
        "    else:\n",
        "      c[label[0]] += 1\n",
        "      dataset.append(input[0])\n",
        "      labels.append(label[0])\n",
        "  return dataset, labels"
      ],
      "metadata": {
        "id": "bSUF0Bi45Clc"
      },
      "execution_count": null,
      "outputs": []
    },
    {
      "cell_type": "code",
      "source": [
        "classes = ('plane', 'car', 'bird', 'cat',\n",
        "           'deer', 'dog', 'frog', 'horse', 'ship', 'truck')\n",
        "\n",
        "# dataset keeps our windows, class_label_matrix keeps the label of windows\n",
        "dataset, labels = get_part_of_dataset(trainloader)"
      ],
      "metadata": {
        "id": "x4AxVpSSowmm"
      },
      "execution_count": null,
      "outputs": []
    },
    {
      "cell_type": "markdown",
      "source": [
        "# Create windows"
      ],
      "metadata": {
        "id": "XkG2pmeo9JV2"
      }
    },
    {
      "cell_type": "code",
      "execution_count": null,
      "metadata": {
        "id": "JMEb8onvTvtJ"
      },
      "outputs": [],
      "source": [
        "# plot the image\n",
        "def imshow(img):\n",
        "    img = img / 2 + 0.5     # unnormalize\n",
        "    npimg = img.numpy() # convert from tensor\n",
        "    plt.imshow(np.transpose(npimg, (1, 2, 0)))\n",
        "    plt.show()"
      ]
    },
    {
      "cell_type": "code",
      "source": [
        "def make_window(channel, dataset_channel, class_label_matrix, img, label, size, step, number_of_dimensions, number_of_classes):\n",
        "  windows = img.unfold(1, size, step).unfold(2, size, step) # unflod(dimension, size, step)\n",
        "  for i in range(len(windows[0])):\n",
        "    for j in range(len(windows[0])):\n",
        "      dataset_channel.append(windows[channel, i, j].reshape(number_of_dimensions))\n",
        "      \n",
        "      temp = [0]*number_of_classes\n",
        "      temp[label] = 1\n",
        "      class_label_matrix.append(temp)"
      ],
      "metadata": {
        "id": "2ddzm6Omo90S"
      },
      "execution_count": null,
      "outputs": []
    },
    {
      "cell_type": "code",
      "execution_count": null,
      "metadata": {
        "id": "IyFBjivsc_Aw"
      },
      "outputs": [],
      "source": [
        "def make_dataset(channel, dataset_channel, class_label_matrix, dataset, labels, size, step, number_of_dimensions, number_of_classes):\n",
        "  for i in range(len(dataset)):\n",
        "    make_window(channel, dataset_channel, class_label_matrix, dataset[i], labels[i], size, step, number_of_dimensions, number_of_classes)"
      ]
    },
    {
      "cell_type": "markdown",
      "source": [
        "# Main functions"
      ],
      "metadata": {
        "id": "Vp-ne8Ag9SEP"
      }
    },
    {
      "cell_type": "code",
      "execution_count": null,
      "metadata": {
        "id": "K4EAW-dkLCTh"
      },
      "outputs": [],
      "source": [
        "def initialize_centroids(dataset, centroids, inverted_covariances, covariances, gamma, sigma, threshold, number_of_dimensions):\n",
        "  number_of_centroids = 0\n",
        "  for data in dataset:\n",
        "    if number_of_centroids == 0:\n",
        "      number_of_centroids += 1\n",
        "      centroids.append(data)\n",
        "      covariances.append(sigma*torch.eye(number_of_dimensions, dtype=torch.float64))\n",
        "      inverted_covariances.append(torch.eye(number_of_dimensions, dtype=torch.float64)/sigma)\n",
        "    else:\n",
        "      temp = torch.stack(centroids)\n",
        "      xc = data-temp\n",
        "      distances = []\n",
        "      for i in range(len(centroids)):\n",
        "        distances.append(xc[i].reshape((1, number_of_dimensions))@inverted_covariances[i]@torch.transpose(xc[i].reshape((1, number_of_dimensions)), 0, 1))\n",
        "      distances = -1*gamma*torch.tensor(distances)\n",
        "      RM = torch.exp(distances)\n",
        "      if max(RM) < threshold:\n",
        "        number_of_centroids += 1\n",
        "        centroids.append(data)\n",
        "        covariances.append(sigma*torch.eye(number_of_dimensions, dtype=torch.float64))\n",
        "        inverted_covariances.append(torch.eye(number_of_dimensions, dtype=torch.float64)/sigma)"
      ]
    },
    {
      "cell_type": "code",
      "source": [
        "from torch.nn.functional import normalize\n",
        "def calculate_membership_matrix(dataset ,centroids, inverted_covariances, gamma, number_of_dimensions):\n",
        "  list_RM = []\n",
        "  for i in range(len(centroids)):\n",
        "    xc = dataset-centroids[i]\n",
        "    temp = ((xc@inverted_covariances[i])*xc)@torch.ones((number_of_dimensions, 1), dtype=torch.float64)\n",
        "    mem = torch.exp(-1*gamma*temp)\n",
        "    list_RM.append(mem)\n",
        "  #normalize the matirx\n",
        "  RM = torch.cat(list_RM, dim=1)\n",
        "  miu_ik = normalize(RM, p=1.0, dim = 1)\n",
        "  return torch.nan_to_num(miu_ik)"
      ],
      "metadata": {
        "id": "ICuIZuKchIns"
      },
      "execution_count": null,
      "outputs": []
    },
    {
      "cell_type": "code",
      "source": [
        "def update_centroids(dataset_channel, class_label_matrix, centroids, inverted_covariances, q, gamma, beta, number_of_dimensions):\n",
        "  number_of_classes = len(class_label_matrix[0])\n",
        "  updated_centroid = []\n",
        "  miu_ik = calculate_membership_matrix(dataset_channel , centroids, inverted_covariances, gamma, number_of_dimensions)\n",
        "\n",
        "  for i in range(len(centroids)):\n",
        "    temp = class_label_matrix*miu_ik[:, [i]]\n",
        "    cnt = torch.sum(temp, 0).reshape((1, number_of_classes)) \n",
        "\n",
        "    if torch.sum(cnt) == 0:\n",
        "      q[i, :] = torch.zeros((1, number_of_classes))\n",
        "    else:\n",
        "      q[i, :] = cnt/torch.sum(cnt)\n",
        "\n",
        "    Ui = torch.sum(q[i]*class_label_matrix, 1).reshape([len(dataset_channel), 1])*miu_ik[:, [i]] # Pik = torch.sum(q[i]*class_label_matrix, 1).reshape([len(dataset), 1])\n",
        "    new_c = torch.nan_to_num((1-beta)*centroids[i] + beta*((torch.transpose(Ui, 0, 1)@dataset_channel)/torch.sum(Ui))) # in case that all the elements in Ui become zero\n",
        "    updated_centroid.append(new_c)\n",
        "\n",
        "  return updated_centroid"
      ],
      "metadata": {
        "id": "1YMotiyfpq3j"
      },
      "execution_count": null,
      "outputs": []
    },
    {
      "cell_type": "code",
      "source": [
        "def calculate_inverted_covariance(covariance):\n",
        "  covariance = np.array(covariance)\n",
        "  l, mygamma = np.linalg.eig(covariance) # calculate eigenvalues and eigenvectors\n",
        "  mylambda = np.zeros((l.shape[0], l.shape[0])) # construct a diagnosal matrix with eigenvalues\n",
        "  # normalize the matirx\n",
        "  if l.dtype == \"complex\":\n",
        "    l = abs(l)\n",
        "  sum_of_rows = l.sum()\n",
        "  if sum_of_rows != 0:\n",
        "    l_norm = l/sum_of_rows\n",
        "  else:\n",
        "    l_norm = l\n",
        "  for i in range(l.shape[0]):\n",
        "    if l_norm[i] < 0.01:\n",
        "      mylambda[i][i] = np.float64(0)\n",
        "    else:\n",
        "      mylambda[i][i] = np.float64(1/l[i])\n",
        "  icm = (mygamma)@(mylambda)@(mygamma.T) # invert of the covariance matrix\n",
        "  icm = np.float64(icm)\n",
        "  return torch.tensor(icm)"
      ],
      "metadata": {
        "id": "9-ZJJb638j3v"
      },
      "execution_count": null,
      "outputs": []
    },
    {
      "cell_type": "code",
      "source": [
        "def update_covariances(dataset_channel, class_label_matrix, centroids, covariances, inverted_covariances, q, classes, gamma, beta, number_of_dimensions):\n",
        "  number_of_classes = len(class_label_matrix[0])\n",
        "  miu_ik = calculate_membership_matrix(dataset_channel ,centroids, inverted_covariances, gamma, number_of_dimensions)\n",
        "\n",
        "  for i in range(len(centroids)):\n",
        "    temp = class_label_matrix*miu_ik[:, [i]]\n",
        "    cnt = torch.sum(temp, 0).reshape((1, number_of_classes))\n",
        "\n",
        "    if torch.sum(cnt) == 0:\n",
        "      q[i, :] = torch.zeros((1, number_of_classes))\n",
        "    else:\n",
        "      q[i, :] = cnt/torch.sum(cnt)\n",
        "    \n",
        "    Ui = torch.sum(q[i]*class_label_matrix, 1).reshape([len(dataset_channel), 1])*miu_ik[:, [i]]\n",
        "    x_clusteri = dataset_channel - centroids[i]\n",
        "    temp2 = torch.transpose(Ui*x_clusteri, 0, 1)@x_clusteri\n",
        "    covariances[i] = (1-beta)*covariances[i] + beta*temp2/torch.sum(Ui)\n",
        "    covariances[i] = torch.nan_to_num(covariances[i]) # in case that all the elements in Ui become zero\n",
        "\n",
        "    inverted_covariances[i] = calculate_inverted_covariance(covariances[i])"
      ],
      "metadata": {
        "id": "7OZ0ZzG4VcUa"
      },
      "execution_count": null,
      "outputs": []
    },
    {
      "cell_type": "code",
      "execution_count": null,
      "metadata": {
        "id": "apVhQznhzTHj"
      },
      "outputs": [],
      "source": [
        "def calculate_entropy(q):\n",
        "  ent = -1*torch.sum(torch.mean(q*torch.log(q + 0.1), 0), axis=0)\n",
        "  return ent"
      ]
    },
    {
      "cell_type": "markdown",
      "source": [
        "# Body"
      ],
      "metadata": {
        "id": "a3cyh5Jx9aCo"
      }
    },
    {
      "cell_type": "code",
      "execution_count": null,
      "metadata": {
        "id": "rboSLDuDUWnf"
      },
      "outputs": [],
      "source": [
        "# initialize the centroids and the parameters\n",
        "number_of_dimensions = 9\n",
        "number_of_classes = len(classes)\n",
        "size = 3 # 3x3 window size\n",
        "step = 2 # one layer of overlap\n",
        "\n",
        "gamma = 1\n",
        "sigma = 0.5\n",
        "threshold = 0.03\n",
        "beta = 1\n",
        "\n",
        "iteration = 400"
      ]
    },
    {
      "cell_type": "code",
      "source": [
        "def suppervised_fuzzy_clustering(dataset, labels, iteration, number_of_dimensions, number_of_classes, size, step, gamma, sigma, threshold, beta):\n",
        "  centroids_channel = []\n",
        "  icm_channel = []\n",
        "  entropy_channel = []\n",
        "  for color_channel in range(3):\n",
        "    print(f'color channel {color_channel} started.')\n",
        "    dataset_channel = []\n",
        "    class_label_matrix = []\n",
        "\n",
        "    # centroid and cov of each cluster\n",
        "    centroids = []\n",
        "    covariances = []\n",
        "    inverted_covariances = []\n",
        "\n",
        "    make_dataset(color_channel, dataset_channel, class_label_matrix, dataset, labels, size, step, number_of_dimensions, number_of_classes)\n",
        "    dataset_channel = torch.stack(dataset_channel)\n",
        "    dataset_channel = dataset_channel.type(torch.DoubleTensor)\n",
        "    class_label_matrix = torch.tensor(class_label_matrix, dtype=torch.float64)\n",
        "\n",
        "    initialize_centroids(dataset_channel, centroids, inverted_covariances, covariances, gamma, sigma, threshold, number_of_dimensions)\n",
        "    print(len(centroids))\n",
        "    q = torch.zeros((len(centroids), number_of_classes), dtype=torch.float64) # matrix that contains the probibilities number of clusters x number of classes\n",
        "\n",
        "    entropy_curve = []\n",
        "    for i in range(iteration):\n",
        "      centroids = update_centroids(dataset_channel, class_label_matrix, centroids, inverted_covariances, q, gamma, beta, number_of_dimensions)\n",
        "      update_covariances(dataset_channel, class_label_matrix, centroids, covariances, inverted_covariances, q, classes, gamma, beta, number_of_dimensions)\n",
        "      entropy = calculate_entropy(q)\n",
        "      entropy_curve.append(entropy)\n",
        "      print(f'{i}th Entropy = {entropy}')\n",
        "      \n",
        "    centroids_channel.append(centroids)\n",
        "    icm_channel.append(inverted_covariances)\n",
        "    entropy_channel.append(entropy_curve)\n",
        "\n",
        "    print(f'color channel {color_channel} finished.')\n",
        "\n",
        "  return centroids_channel, icm_channel, entropy_channel"
      ],
      "metadata": {
        "id": "vxezH7eT8pil"
      },
      "execution_count": null,
      "outputs": []
    },
    {
      "cell_type": "code",
      "source": [
        "c, i, e = suppervised_fuzzy_clustering(dataset, labels, iteration, number_of_dimensions, number_of_classes, size, step, gamma, sigma, threshold, beta)"
      ],
      "metadata": {
        "id": "Jorb7bGCDvmG"
      },
      "execution_count": null,
      "outputs": []
    },
    {
      "cell_type": "code",
      "source": [
        "centroids_channel, icm_channel, entropy_channel = suppervised_fuzzy_clustering(dataset, labels, iteration, number_of_dimensions, number_of_classes, size, step, gamma, sigma, threshold, beta)"
      ],
      "metadata": {
        "id": "8ShYMA7GA1e-"
      },
      "execution_count": null,
      "outputs": []
    },
    {
      "cell_type": "code",
      "source": [
        "import matplotlib.pyplot as plt\n",
        "plt.plot(e[0])\n",
        "plt.show()\n",
        "\n",
        "plt.plot(e[1])\n",
        "plt.show()\n",
        "\n",
        "plt.plot(e[2])\n",
        "plt.show()"
      ],
      "metadata": {
        "colab": {
          "base_uri": "https://localhost:8080/",
          "height": 761
        },
        "id": "H0PvcgnLg1C0",
        "outputId": "4c18986f-da73-4d2a-9928-c05e413b1faa"
      },
      "execution_count": null,
      "outputs": [
        {
          "output_type": "display_data",
          "data": {
            "text/plain": [
              "<Figure size 432x288 with 1 Axes>"
            ],
            "image/png": "[encoded data removed]"
          },
          "metadata": {
            "needs_background": "light"
          }
        },
        {
          "output_type": "display_data",
          "data": {
            "text/plain": [
              "<Figure size 432x288 with 1 Axes>"
            ],
            "image/png": "[encoded data removed]"
          },
          "metadata": {
            "needs_background": "light"
          }
        },
        {
          "output_type": "display_data",
          "data": {
            "text/plain": [
              "<Figure size 432x288 with 1 Axes>"
            ],
            "image/png": "[encoded data removed]"
          },
          "metadata": {
            "needs_background": "light"
          }
        }
      ]
    },
    {
      "cell_type": "markdown",
      "source": [
        "# Test the output"
      ],
      "metadata": {
        "id": "kqM3IcHyENV6"
      }
    },
    {
      "cell_type": "code",
      "source": [
        "def calculate_mahanalobis_distance(icm, m, x, number_of_dimensions):\n",
        "  # D^2 = (x-m)^T * C^-1 * (x-m), mahanalobis distance formula\n",
        "  s = x.reshape((number_of_dimensions, 1))-m.reshape((number_of_dimensions, 1))\n",
        "  return torch.transpose(s, 0, 1)@icm@s"
      ],
      "metadata": {
        "id": "_A_ABv0iwMKG"
      },
      "execution_count": null,
      "outputs": []
    },
    {
      "cell_type": "code",
      "source": [
        "def calculate_membership(icm, vi, x, gamma, number_of_dimensions):\n",
        "  distance = calculate_mahanalobis_distance(icm, vi, x, number_of_dimensions)\n",
        "  # if torch.exp(-1*gamma*distance) < 0.0001:\n",
        "  #   return torch.array(0.0001)\n",
        "  # else:\n",
        "  return torch.exp(-1*gamma*distance)"
      ],
      "metadata": {
        "id": "4YZGWibUWm69"
      },
      "execution_count": null,
      "outputs": []
    },
    {
      "cell_type": "code",
      "source": [
        "filter_img = dataset[0]\n",
        "filter_label = labels[0]"
      ],
      "metadata": {
        "id": "Hq-8PHNkEsey"
      },
      "execution_count": null,
      "outputs": []
    },
    {
      "cell_type": "code",
      "source": [
        "windows = [[], [], []]\n",
        "\n",
        "for color in range(3):\n",
        "  for i in range(1, len(filter_img[0])-1):\n",
        "    for j in range(1, len(filter_img[0])-1):\n",
        "      temp = torch.zeros((3, 3))\n",
        "      temp[0, 0] = filter_img[color, i-1, j-1]\n",
        "      temp[0, 1] = filter_img[color, i-1, j]\n",
        "      temp[0, 2] = filter_img[color, i-1, j+1]\n",
        "      temp[1, 0] = filter_img[color, i, j-1]\n",
        "      temp[1, 1] = filter_img[color, i, j]\n",
        "      temp[1, 2] = filter_img[color, i, j+1]\n",
        "      temp[2, 0] = filter_img[color, i+1, j-1]\n",
        "      temp[2, 1] = filter_img[color, i+1, j]\n",
        "      temp[2, 2] = filter_img[color, i+1, j+1]\n",
        "      windows[color].append(temp)"
      ],
      "metadata": {
        "id": "NGYPJ7usFCDX"
      },
      "execution_count": null,
      "outputs": []
    },
    {
      "cell_type": "code",
      "source": [
        "windows_r = windows[0]\n",
        "windows_r = torch.stack(windows_r)\n",
        "windows_r = windows_r.reshape(30, 30, 3, 3)\n",
        "\n",
        "windows_g = windows[1]\n",
        "windows_g = torch.stack(windows_g)\n",
        "windows_g = windows_g.reshape(30, 30, 3, 3)\n",
        "\n",
        "windows_b = windows[2]\n",
        "windows_b = torch.stack(windows_b)\n",
        "windows_b = windows_b.reshape(30, 30, 3, 3)"
      ],
      "metadata": {
        "id": "ajkCYLmGFtAu"
      },
      "execution_count": null,
      "outputs": []
    },
    {
      "cell_type": "code",
      "source": [
        "result_r = torch.zeros((30, 30))\n",
        "result_g = torch.zeros((30, 30))\n",
        "result_b = torch.zeros((30, 30))\n",
        "\n",
        "for i in range(30):\n",
        "  for j in range(30):\n",
        "    result_r[i][j] = calculate_membership(icm_channel[0][0], centroids_channel[0][0], windows_r[i, j], gamma, 9)\n",
        "    result_g[i][j] = calculate_membership(icm_channel[1][0], centroids_channel[1][0], windows_g[i, j], gamma, 9)\n",
        "    result_b[i][j] = calculate_membership(icm_channel[2][0], centroids_channel[2][0], windows_b[i, j], gamma, 9)"
      ],
      "metadata": {
        "id": "CnHaWbm6FOzR"
      },
      "execution_count": null,
      "outputs": []
    },
    {
      "cell_type": "code",
      "source": [
        "imshow(torchvision.utils.make_grid(filter_img))\n",
        "print(' '.join('%5s' % classes[filter_label]))\n",
        "\n",
        "imshow(torchvision.utils.make_grid(result_r))\n",
        "imshow(torchvision.utils.make_grid(result_g))\n",
        "imshow(torchvision.utils.make_grid(result_b))"
      ],
      "metadata": {
        "colab": {
          "base_uri": "https://localhost:8080/",
          "height": 1000
        },
        "id": "MrYSIFCYExQ1",
        "outputId": "118731ec-d14b-482b-e3df-1be947d6bc2f"
      },
      "execution_count": null,
      "outputs": [
        {
          "output_type": "display_data",
          "data": {
            "text/plain": [
              "<Figure size 432x288 with 1 Axes>"
            ],
            "image/png": "[encoded data removed]"
          },
          "metadata": {
            "needs_background": "light"
          }
        },
        {
          "output_type": "stream",
          "name": "stdout",
          "text": [
            "    c a t\n"
          ]
        },
        {
          "output_type": "display_data",
          "data": {
            "text/plain": [
              "<Figure size 432x288 with 1 Axes>"
            ],
            "image/png": "[encoded data removed]"
          },
          "metadata": {
            "needs_background": "light"
          }
        },
        {
          "output_type": "display_data",
          "data": {
            "text/plain": [
              "<Figure size 432x288 with 1 Axes>"
            ],
            "image/png": "[encoded data removed]"
          },
          "metadata": {
            "needs_background": "light"
          }
        },
        {
          "output_type": "display_data",
          "data": {
            "text/plain": [
              "<Figure size 432x288 with 1 Axes>"
            ],
            "image/png": "[encoded data removed]"
          },
          "metadata": {
            "needs_background": "light"
          }
        }
      ]
    },
    {
      "cell_type": "code",
      "source": [
        "result = [result_r, result_g, result_b]\n",
        "result = torch.stack(result)"
      ],
      "metadata": {
        "id": "NskH7ayPGUwS"
      },
      "execution_count": null,
      "outputs": []
    },
    {
      "cell_type": "code",
      "source": [
        "imshow(torchvision.utils.make_grid(result))"
      ],
      "metadata": {
        "colab": {
          "base_uri": "https://localhost:8080/",
          "height": 266
        },
        "id": "S3SRJ_kCG-bE",
        "outputId": "f4791591-bce0-4843-de1d-13ee1e588be9"
      },
      "execution_count": null,
      "outputs": [
        {
          "output_type": "display_data",
          "data": {
            "text/plain": [
              "<Figure size 432x288 with 1 Axes>"
            ],
            "image/png": "[encoded data removed]"
          },
          "metadata": {
            "needs_background": "light"
          }
        }
      ]
    },
    {
      "cell_type": "code",
      "source": [
        "result_r_2 = torch.zeros((30, 30))\n",
        "result_g_2 = torch.zeros((30, 30))\n",
        "result_b_2 = torch.zeros((30, 30))\n",
        "\n",
        "for i in range(30):\n",
        "  for j in range(30):\n",
        "    result_r_2[i][j] = calculate_membership(icm_channel[0][1], centroids_channel[0][1], windows_r[i, j], gamma, 9)\n",
        "    result_g_2[i][j] = calculate_membership(icm_channel[1][1], centroids_channel[1][1], windows_g[i, j], gamma, 9)\n",
        "    result_b_2[i][j] = calculate_membership(icm_channel[2][1], centroids_channel[2][1], windows_b[i, j], gamma, 9)"
      ],
      "metadata": {
        "id": "gUnzUPCwIUnj"
      },
      "execution_count": null,
      "outputs": []
    },
    {
      "cell_type": "code",
      "source": [
        "imshow(torchvision.utils.make_grid(result_r))\n",
        "imshow(torchvision.utils.make_grid(result_g))\n",
        "imshow(torchvision.utils.make_grid(result_b))"
      ],
      "metadata": {
        "colab": {
          "base_uri": "https://localhost:8080/",
          "height": 764
        },
        "id": "orxoYjAlIhKb",
        "outputId": "28da7a7d-8927-4c7d-9bb2-8b1e0e8f3867"
      },
      "execution_count": null,
      "outputs": [
        {
          "output_type": "display_data",
          "data": {
            "text/plain": [
              "<Figure size 432x288 with 1 Axes>"
            ],
            "image/png": "[encoded data removed]"
          },
          "metadata": {
            "needs_background": "light"
          }
        },
        {
          "output_type": "display_data",
          "data": {
            "text/plain": [
              "<Figure size 432x288 with 1 Axes>"
            ],
            "image/png": "[encoded data removed]"
          },
          "metadata": {
            "needs_background": "light"
          }
        },
        {
          "output_type": "display_data",
          "data": {
            "text/plain": [
              "<Figure size 432x288 with 1 Axes>"
            ],
            "image/png": "[encoded data removed]"
          },
          "metadata": {
            "needs_background": "light"
          }
        }
      ]
    },
    {
      "cell_type": "code",
      "source": [
        "result2 = [result_r_2, result_g_2, result_b_2]\n",
        "result2 = torch.stack(result2)"
      ],
      "metadata": {
        "id": "ZDeGr4XxIkQU"
      },
      "execution_count": null,
      "outputs": []
    },
    {
      "cell_type": "code",
      "source": [
        "imshow(torchvision.utils.make_grid(result2))"
      ],
      "metadata": {
        "colab": {
          "base_uri": "https://localhost:8080/",
          "height": 266
        },
        "id": "Cm3vLvnnIszH",
        "outputId": "9359b9a3-9f35-414a-e94d-4ff2618016a1"
      },
      "execution_count": null,
      "outputs": [
        {
          "output_type": "display_data",
          "data": {
            "text/plain": [
              "<Figure size 432x288 with 1 Axes>"
            ],
            "image/png": "[encoded data removed]"
          },
          "metadata": {
            "needs_background": "light"
          }
        }
      ]
    },
    {
      "cell_type": "markdown",
      "source": [
        "#Softmax"
      ],
      "metadata": {
        "id": "qJ2tGoA_JCw8"
      }
    },
    {
      "cell_type": "code",
      "source": [
        "softmax = nn.Softmax(dim=1)\n",
        "cr = torch.cat(centroids_channel[0])\n",
        "cg = torch.cat(centroids_channel[1])\n",
        "cb = torch.cat(centroids_channel[2])\n",
        "cr = softmax(cr)\n",
        "cg = softmax(cg)\n",
        "cb = softmax(cb)"
      ],
      "metadata": {
        "id": "sppicJtdJHdB"
      },
      "execution_count": null,
      "outputs": []
    },
    {
      "cell_type": "code",
      "source": [
        "rr = torch.zeros((30, 30))\n",
        "rg = torch.zeros((30, 30))\n",
        "rb = torch.zeros((30, 30))\n",
        "\n",
        "for i in range(30):\n",
        "  for j in range(30):\n",
        "    rr[i][j] = calculate_membership(icm_channel[0][0], cr[0], windows_r[i, j], gamma, 9)\n",
        "    rg[i][j] = calculate_membership(icm_channel[1][0], cg[0], windows_g[i, j], gamma, 9)\n",
        "    rb[i][j] = calculate_membership(icm_channel[2][0], cb[0], windows_b[i, j], gamma, 9)"
      ],
      "metadata": {
        "id": "OjYvp5cDJbWW"
      },
      "execution_count": null,
      "outputs": []
    },
    {
      "cell_type": "code",
      "source": [
        "imshow(torchvision.utils.make_grid(rr))\n",
        "imshow(torchvision.utils.make_grid(rg))\n",
        "imshow(torchvision.utils.make_grid(rb))\n",
        "\n",
        "r = [rr, rg, rb]\n",
        "r = torch.stack(r)\n",
        "\n",
        "imshow(torchvision.utils.make_grid(r))"
      ],
      "metadata": {
        "colab": {
          "base_uri": "https://localhost:8080/",
          "height": 1000
        },
        "id": "qzddMtHlJpdI",
        "outputId": "b634b500-cad3-4e3f-cbda-1d73648d20aa"
      },
      "execution_count": null,
      "outputs": [
        {
          "output_type": "display_data",
          "data": {
            "text/plain": [
              "<Figure size 432x288 with 1 Axes>"
            ],
            "image/png": "[encoded data removed]"
          },
          "metadata": {
            "needs_background": "light"
          }
        },
        {
          "output_type": "display_data",
          "data": {
            "text/plain": [
              "<Figure size 432x288 with 1 Axes>"
            ],
            "image/png": "[encoded data removed]"
          },
          "metadata": {
            "needs_background": "light"
          }
        },
        {
          "output_type": "display_data",
          "data": {
            "text/plain": [
              "<Figure size 432x288 with 1 Axes>"
            ],
            "image/png": "[encoded data removed]"
          },
          "metadata": {
            "needs_background": "light"
          }
        },
        {
          "output_type": "display_data",
          "data": {
            "text/plain": [
              "<Figure size 432x288 with 1 Axes>"
            ],
            "image/png": "[encoded data removed]"
          },
          "metadata": {
            "needs_background": "light"
          }
        }
      ]
    },
    {
      "cell_type": "code",
      "source": [
        "rr2 = torch.zeros((30, 30))\n",
        "rg2 = torch.zeros((30, 30))\n",
        "rb2 = torch.zeros((30, 30))\n",
        "\n",
        "for i in range(30):\n",
        "  for j in range(30):\n",
        "    rr2[i][j] = calculate_membership(icm_channel[0][1], cr[1], windows_r[i, j], gamma, 9)\n",
        "    rg2[i][j] = calculate_membership(icm_channel[1][1], cg[1], windows_g[i, j], gamma, 9)\n",
        "    rb2[i][j] = calculate_membership(icm_channel[2][1], cb[1], windows_b[i, j], gamma, 9)"
      ],
      "metadata": {
        "id": "xhkWMzKjJ_mk"
      },
      "execution_count": null,
      "outputs": []
    },
    {
      "cell_type": "code",
      "source": [
        "imshow(torchvision.utils.make_grid(rr2))\n",
        "imshow(torchvision.utils.make_grid(rg2))\n",
        "imshow(torchvision.utils.make_grid(rb2))\n",
        "\n",
        "r2 = [rr2, rg2, rb2]\n",
        "r2 = torch.stack(r2)\n",
        "\n",
        "imshow(torchvision.utils.make_grid(r2))"
      ],
      "metadata": {
        "colab": {
          "base_uri": "https://localhost:8080/",
          "height": 1000
        },
        "id": "CqSX7xkbKKYV",
        "outputId": "9212c15d-b00c-4705-fe19-c631a0b20191"
      },
      "execution_count": null,
      "outputs": [
        {
          "output_type": "display_data",
          "data": {
            "text/plain": [
              "<Figure size 432x288 with 1 Axes>"
            ],
            "image/png": "[encoded data removed]"
          },
          "metadata": {
            "needs_background": "light"
          }
        },
        {
          "output_type": "display_data",
          "data": {
            "text/plain": [
              "<Figure size 432x288 with 1 Axes>"
            ],
            "image/png": "[encoded data removed]"
          },
          "metadata": {
            "needs_background": "light"
          }
        },
        {
          "output_type": "display_data",
          "data": {
            "text/plain": [
              "<Figure size 432x288 with 1 Axes>"
            ],
            "image/png": "[encoded data removed]"
          },
          "metadata": {
            "needs_background": "light"
          }
        },
        {
          "output_type": "display_data",
          "data": {
            "text/plain": [
              "<Figure size 432x288 with 1 Axes>"
            ],
            "image/png": "[encoded data removed]"
          },
          "metadata": {
            "needs_background": "light"
          }
        }
      ]
    },
    {
      "cell_type": "markdown",
      "source": [
        "# Diversity of classes in clusters"
      ],
      "metadata": {
        "id": "CHt9l7OmLKlA"
      }
    },
    {
      "cell_type": "code",
      "source": [
        "dataset_channel = []\n",
        "class_label_matrix = []\n",
        "make_dataset(0, dataset_channel, class_label_matrix, dataset, labels, size, step, number_of_dimensions, number_of_classes)\n",
        "dataset_channel = torch.stack(dataset_channel)\n",
        "dataset_channel = dataset_channel.type(torch.DoubleTensor)\n",
        "class_label_matrix = torch.tensor(class_label_matrix, dtype=torch.float64)"
      ],
      "metadata": {
        "id": "4VSB8GUiL0KA"
      },
      "execution_count": null,
      "outputs": []
    },
    {
      "cell_type": "code",
      "source": [
        "windows_max_membership = []\n",
        "for w in dataset_channel:\n",
        "  memberships = []\n",
        "  for i in range(len(centroids_channel[0])):\n",
        "    memberships.append(calculate_membership(icm_channel[2][i], cr[i], w, gamma, number_of_dimensions))\n",
        "  test = torch.tensor(memberships)\n",
        "  windows_max_membership.append(torch.argmax(test))"
      ],
      "metadata": {
        "id": "AISiR4cJLI5O"
      },
      "execution_count": null,
      "outputs": []
    },
    {
      "cell_type": "code",
      "source": [
        "check = torch.zeros((len(centroids_channel[0]), number_of_classes))\n",
        "for i in range(len(windows_max_membership)):\n",
        "  row = windows_max_membership[i]\n",
        "  col = torch.nonzero(class_label_matrix[i])\n",
        "  check[row, col] += 1"
      ],
      "metadata": {
        "id": "9seBpKlqLmwl"
      },
      "execution_count": null,
      "outputs": []
    },
    {
      "cell_type": "code",
      "source": [
        "print(check)"
      ],
      "metadata": {
        "colab": {
          "base_uri": "https://localhost:8080/"
        },
        "id": "-OBFphNiQhXu",
        "outputId": "8fae969c-a63a-40f6-a485-f2bdfc38f5ee"
      },
      "execution_count": null,
      "outputs": [
        {
          "output_type": "stream",
          "name": "stdout",
          "text": [
            "tensor([[   0.,    0.,    0.,    0.,    0.,    0.,    0.,    0.,    0.,    0.],\n",
            "        [3600., 3600., 3600., 3600., 3600., 3600., 3600., 3600., 3600., 3600.]])\n"
          ]
        }
      ]
    },
    {
      "cell_type": "markdown",
      "source": [
        "# old cells"
      ],
      "metadata": {
        "id": "ur02J0GZHJz4"
      }
    },
    {
      "cell_type": "code",
      "execution_count": null,
      "metadata": {
        "id": "hLxBTTapANKV"
      },
      "outputs": [],
      "source": [
        "label = torch.tensor(12)\n",
        "for i, (inputs, labels) in enumerate(testloader):\n",
        "  if label != torch.tensor(12):\n",
        "    break\n",
        "  if labels[0] in [torch.tensor(0), torch.tensor(1), torch.tensor(2)]:\n",
        "    image = inputs[0]\n",
        "    label = labels[0]\n",
        "print(' '.join('%5s' % classes[label]))\n",
        "imshow(torchvision.utils.make_grid(image))\n",
        "\n",
        "windows = image.unfold(1, 3, 2).unfold(2, 3, 2) # unflod(dimension, size, step)\n",
        "test = []\n",
        "for i in range(15):\n",
        "  for j in range(15): \n",
        "    test.append(windows[:, i, j].reshape(27))\n",
        "\n",
        "windows_max_membership = []\n",
        "for w in test:\n",
        "  memberships = []\n",
        "  for i in range(len(centroids)):\n",
        "    memberships.append(calculate_membership(inverted_covariances[i], centroids[i], w, gamma))\n",
        "  test = torch.tensor(memberships)\n",
        "  windows_max_membership.append(torch.argmax(test))\n",
        "\n",
        "\n",
        "for i in range(len(test)):\n",
        "  print(f'window number {i+1} belongs to cluster {windows_max_membership[i] + 1}')\n",
        "  \n"
      ]
    },
    {
      "cell_type": "code",
      "execution_count": null,
      "metadata": {
        "id": "dzj-L1pZSUFS"
      },
      "outputs": [],
      "source": [
        "def calculate_mahanalobis_distance(icm, m, x, number_of_dimensions):\n",
        "  # D^2 = (x-m)^T * C^-1 * (x-m), mahanalobis distance formula\n",
        "  s = x.reshape((number_of_dimensions, 1))-m.reshape((number_of_dimensions, 1))\n",
        "  return torch.transpose(s, 0, 1)@icm@s"
      ]
    },
    {
      "cell_type": "code",
      "source": [
        "from torch.nn.functional import normalize\n",
        "def calculate_membership_matrix(dataset ,centroids, inverted_covariances, gamma, number_of_dimensions):\n",
        "  RM = torch.zeros((len(dataset), len(centroids)), dtype=torch.float62) # matrix that contains the memberships number of samples x number of clusters\n",
        "  for i in range(len(centroids)):\n",
        "    xc = dataset-centroids[i]\n",
        "    temp = ((xc@inverted_covariances[i])*xc)@torch.ones((number_of_dimensions, 1))\n",
        "    mem = torch.exp(-1*gamma*temp)\n",
        "    RM[:, i] = mem[:, 0]\n",
        "  #normalize the matirx\n",
        "  miu_ik = normalize(RM, p=1.0, dim = 1)\n",
        "  return miu_ik\n"
      ],
      "metadata": {
        "id": "5Kw92th6HIVp"
      },
      "execution_count": null,
      "outputs": []
    },
    {
      "cell_type": "code",
      "source": [
        "a = nn.InstanceNorm2d()"
      ],
      "metadata": {
        "id": "e1k_88gmeyLU"
      },
      "execution_count": null,
      "outputs": []
    },
    {
      "cell_type": "code",
      "source": [
        "train_set = datasets.CIFAR10(\n",
        "    root='./data'\n",
        "    ,train=True\n",
        "    ,download=True\n",
        "    ,transform=transforms.Compose([\n",
        "        transforms.ToTensor()\n",
        "    ])\n",
        ")\n",
        "\n",
        "train_loader = DataLoader(train_set, batch_size=len(train_set), num_workers=1)\n",
        "data = next(iter(train_loader))"
      ],
      "metadata": {
        "colab": {
          "base_uri": "https://localhost:8080/",
          "height": 85,
          "referenced_widgets": [
            "85370b11181740df8c1ba726a8bbf777",
            "4ccc01f3b6594e10b02295d5b4258635",
            "76f99b9412ca4157afbfdfe374d768e8",
            "d2cdca54f18844238516d48427751e75",
            "c0243afd36b244139b8871c8f01b58c0",
            "051e1534acad4fc3af91546147b8de38",
            "40887d4e11c2436e9ce9962ddb6d49c7",
            "3d3a362ed61341c883f75121b1ebc6f1",
            "5f65ff395a924a848fae0d39a2398c25",
            "72089b0ef55548a99fdf509e4c3fb5ee",
            "8413ea12fad544be9811db9ab39d71aa"
          ]
        },
        "id": "ERtTgGZnUhaF",
        "outputId": "f2bf01fd-fd38-4606-d3ee-49de1920f3d8"
      },
      "execution_count": null,
      "outputs": [
        {
          "output_type": "stream",
          "name": "stdout",
          "text": [
            "Downloading https://www.cs.toronto.edu/~kriz/cifar-10-python.tar.gz to ./data/cifar-10-python.tar.gz\n"
          ]
        },
        {
          "output_type": "display_data",
          "data": {
            "text/plain": [
              "  0%|          | 0/170498071 [00:00<?, ?it/s]"
            ],
            "application/vnd.jupyter.widget-view+json": {
              "version_major": 2,
              "version_minor": 0,
              "model_id": "85370b11181740df8c1ba726a8bbf777"
            }
          },
          "metadata": {}
        },
        {
          "output_type": "stream",
          "name": "stdout",
          "text": [
            "Extracting ./data/cifar-10-python.tar.gz to ./data\n"
          ]
        }
      ]
    },
    {
      "cell_type": "code",
      "source": [
        "mean = [data[0][:, 0].mean(), data[0][:, 1].mean(), data[0][:, 2].mean()]\n",
        "std = [data[0][:, 0].std(), data[0][:, 1].std(), data[0][:, 2].std()]\n",
        "train_set_normal = datasets.CIFAR10(\n",
        "    root='./data'\n",
        "    ,train=True\n",
        "    ,download=True\n",
        "    ,transform=transforms.Compose([\n",
        "          transforms.ToTensor()\n",
        "        , transforms.Normalize(mean, std)\n",
        "    ])\n",
        ")\n",
        "\n",
        "train_loader_normal = DataLoader(train_set_normal, batch_size=1, num_workers=1, shuffle=True)"
      ],
      "metadata": {
        "colab": {
          "base_uri": "https://localhost:8080/"
        },
        "id": "Wc_oeIACi1G5",
        "outputId": "1b61c347-1dfe-403d-a53d-71feb677ca79"
      },
      "execution_count": null,
      "outputs": [
        {
          "output_type": "stream",
          "name": "stdout",
          "text": [
            "Files already downloaded and verified\n"
          ]
        }
      ]
    },
    {
      "cell_type": "code",
      "source": [
        "def make_window(dataset, class_label_matrix, img, label, size, step, number_of_dimensions, number_of_classes):\n",
        "  windows = img.unfold(1, size, step).unfold(2, size, step) # unflod(dimension, size, step)\n",
        "\n",
        "  for i in range(len(windows[0])):\n",
        "    for j in range(len(windows[0])):\n",
        "      \n",
        "      window_normal = []\n",
        "      for k in range(len(windows)): # number of channels\n",
        "        window_normal.append((windows[:, i, j, k] - windows[:, i, j, k].mean())/windows[:, i, j, k].std())\n",
        "      \n",
        "      window_normal = torch.stack(window_normal)\n",
        "      dataset.append(window_normal.reshape(number_of_dimensions))\n",
        "      temp = [0]*number_of_classes\n",
        "      temp[label] = 1\n",
        "      class_label_matrix.append(temp)"
      ],
      "metadata": {
        "id": "arlqSyAQD35g"
      },
      "execution_count": null,
      "outputs": []
    }
  ],
  "metadata": {
    "colab": {
      "collapsed_sections": [],
      "name": "Supervised_Fuzzy_Clustering.ipynb",
      "provenance": [],
      "authorship_tag": "ABX9TyOr2kLbslE+Qfht9i5XzlQW",
      "include_colab_link": true
    },
    "kernelspec": {
      "display_name": "Python 3",
      "name": "python3"
    },
    "language_info": {
      "name": "python"
    },
    "widgets": {
      "application/vnd.jupyter.widget-state+json": {
        "85370b11181740df8c1ba726a8bbf777": {
          "model_module": "@jupyter-widgets/controls",
          "model_name": "HBoxModel",
          "model_module_version": "1.5.0",
          "state": {
            "_dom_classes": [],
            "_model_module": "@jupyter-widgets/controls",
            "_model_module_version": "1.5.0",
            "_model_name": "HBoxModel",
            "_view_count": null,
            "_view_module": "@jupyter-widgets/controls",
            "_view_module_version": "1.5.0",
            "_view_name": "HBoxView",
            "box_style": "",
            "children": [
              "IPY_MODEL_4ccc01f3b6594e10b02295d5b4258635",
              "IPY_MODEL_76f99b9412ca4157afbfdfe374d768e8",
              "IPY_MODEL_d2cdca54f18844238516d48427751e75"
            ],
            "layout": "IPY_MODEL_c0243afd36b244139b8871c8f01b58c0"
          }
        },
        "4ccc01f3b6594e10b02295d5b4258635": {
          "model_module": "@jupyter-widgets/controls",
          "model_name": "HTMLModel",
          "model_module_version": "1.5.0",
          "state": {
            "_dom_classes": [],
            "_model_module": "@jupyter-widgets/controls",
            "_model_module_version": "1.5.0",
            "_model_name": "HTMLModel",
            "_view_count": null,
            "_view_module": "@jupyter-widgets/controls",
            "_view_module_version": "1.5.0",
            "_view_name": "HTMLView",
            "description": "",
            "description_tooltip": null,
            "layout": "IPY_MODEL_051e1534acad4fc3af91546147b8de38",
            "placeholder": "​",
            "style": "IPY_MODEL_40887d4e11c2436e9ce9962ddb6d49c7",
            "value": ""
          }
        },
        "76f99b9412ca4157afbfdfe374d768e8": {
          "model_module": "@jupyter-widgets/controls",
          "model_name": "FloatProgressModel",
          "model_module_version": "1.5.0",
          "state": {
            "_dom_classes": [],
            "_model_module": "@jupyter-widgets/controls",
            "_model_module_version": "1.5.0",
            "_model_name": "FloatProgressModel",
            "_view_count": null,
            "_view_module": "@jupyter-widgets/controls",
            "_view_module_version": "1.5.0",
            "_view_name": "ProgressView",
            "bar_style": "success",
            "description": "",
            "description_tooltip": null,
            "layout": "IPY_MODEL_3d3a362ed61341c883f75121b1ebc6f1",
            "max": 170498071,
            "min": 0,
            "orientation": "horizontal",
            "style": "IPY_MODEL_5f65ff395a924a848fae0d39a2398c25",
            "value": 170498071
          }
        },
        "d2cdca54f18844238516d48427751e75": {
          "model_module": "@jupyter-widgets/controls",
          "model_name": "HTMLModel",
          "model_module_version": "1.5.0",
          "state": {
            "_dom_classes": [],
            "_model_module": "@jupyter-widgets/controls",
            "_model_module_version": "1.5.0",
            "_model_name": "HTMLModel",
            "_view_count": null,
            "_view_module": "@jupyter-widgets/controls",
            "_view_module_version": "1.5.0",
            "_view_name": "HTMLView",
            "description": "",
            "description_tooltip": null,
            "layout": "IPY_MODEL_72089b0ef55548a99fdf509e4c3fb5ee",
            "placeholder": "​",
            "style": "IPY_MODEL_8413ea12fad544be9811db9ab39d71aa",
            "value": " 170499072/? [00:02&lt;00:00, 79948582.62it/s]"
          }
        },
        "c0243afd36b244139b8871c8f01b58c0": {
          "model_module": "@jupyter-widgets/base",
          "model_name": "LayoutModel",
          "model_module_version": "1.2.0",
          "state": {
            "_model_module": "@jupyter-widgets/base",
            "_model_module_version": "1.2.0",
            "_model_name": "LayoutModel",
            "_view_count": null,
            "_view_module": "@jupyter-widgets/base",
            "_view_module_version": "1.2.0",
            "_view_name": "LayoutView",
            "align_content": null,
            "align_items": null,
            "align_self": null,
            "border": null,
            "bottom": null,
            "display": null,
            "flex": null,
            "flex_flow": null,
            "grid_area": null,
            "grid_auto_columns": null,
            "grid_auto_flow": null,
            "grid_auto_rows": null,
            "grid_column": null,
            "grid_gap": null,
            "grid_row": null,
            "grid_template_areas": null,
            "grid_template_columns": null,
            "grid_template_rows": null,
            "height": null,
            "justify_content": null,
            "justify_items": null,
            "left": null,
            "margin": null,
            "max_height": null,
            "max_width": null,
            "min_height": null,
            "min_width": null,
            "object_fit": null,
            "object_position": null,
            "order": null,
            "overflow": null,
            "overflow_x": null,
            "overflow_y": null,
            "padding": null,
            "right": null,
            "top": null,
            "visibility": null,
            "width": null
          }
        },
        "051e1534acad4fc3af91546147b8de38": {
          "model_module": "@jupyter-widgets/base",
          "model_name": "LayoutModel",
          "model_module_version": "1.2.0",
          "state": {
            "_model_module": "@jupyter-widgets/base",
            "_model_module_version": "1.2.0",
            "_model_name": "LayoutModel",
            "_view_count": null,
            "_view_module": "@jupyter-widgets/base",
            "_view_module_version": "1.2.0",
            "_view_name": "LayoutView",
            "align_content": null,
            "align_items": null,
            "align_self": null,
            "border": null,
            "bottom": null,
            "display": null,
            "flex": null,
            "flex_flow": null,
            "grid_area": null,
            "grid_auto_columns": null,
            "grid_auto_flow": null,
            "grid_auto_rows": null,
            "grid_column": null,
            "grid_gap": null,
            "grid_row": null,
            "grid_template_areas": null,
            "grid_template_columns": null,
            "grid_template_rows": null,
            "height": null,
            "justify_content": null,
            "justify_items": null,
            "left": null,
            "margin": null,
            "max_height": null,
            "max_width": null,
            "min_height": null,
            "min_width": null,
            "object_fit": null,
            "object_position": null,
            "order": null,
            "overflow": null,
            "overflow_x": null,
            "overflow_y": null,
            "padding": null,
            "right": null,
            "top": null,
            "visibility": null,
            "width": null
          }
        },
        "40887d4e11c2436e9ce9962ddb6d49c7": {
          "model_module": "@jupyter-widgets/controls",
          "model_name": "DescriptionStyleModel",
          "model_module_version": "1.5.0",
          "state": {
            "_model_module": "@jupyter-widgets/controls",
            "_model_module_version": "1.5.0",
            "_model_name": "DescriptionStyleModel",
            "_view_count": null,
            "_view_module": "@jupyter-widgets/base",
            "_view_module_version": "1.2.0",
            "_view_name": "StyleView",
            "description_width": ""
          }
        },
        "3d3a362ed61341c883f75121b1ebc6f1": {
          "model_module": "@jupyter-widgets/base",
          "model_name": "LayoutModel",
          "model_module_version": "1.2.0",
          "state": {
            "_model_module": "@jupyter-widgets/base",
            "_model_module_version": "1.2.0",
            "_model_name": "LayoutModel",
            "_view_count": null,
            "_view_module": "@jupyter-widgets/base",
            "_view_module_version": "1.2.0",
            "_view_name": "LayoutView",
            "align_content": null,
            "align_items": null,
            "align_self": null,
            "border": null,
            "bottom": null,
            "display": null,
            "flex": null,
            "flex_flow": null,
            "grid_area": null,
            "grid_auto_columns": null,
            "grid_auto_flow": null,
            "grid_auto_rows": null,
            "grid_column": null,
            "grid_gap": null,
            "grid_row": null,
            "grid_template_areas": null,
            "grid_template_columns": null,
            "grid_template_rows": null,
            "height": null,
            "justify_content": null,
            "justify_items": null,
            "left": null,
            "margin": null,
            "max_height": null,
            "max_width": null,
            "min_height": null,
            "min_width": null,
            "object_fit": null,
            "object_position": null,
            "order": null,
            "overflow": null,
            "overflow_x": null,
            "overflow_y": null,
            "padding": null,
            "right": null,
            "top": null,
            "visibility": null,
            "width": null
          }
        },
        "5f65ff395a924a848fae0d39a2398c25": {
          "model_module": "@jupyter-widgets/controls",
          "model_name": "ProgressStyleModel",
          "model_module_version": "1.5.0",
          "state": {
            "_model_module": "@jupyter-widgets/controls",
            "_model_module_version": "1.5.0",
            "_model_name": "ProgressStyleModel",
            "_view_count": null,
            "_view_module": "@jupyter-widgets/base",
            "_view_module_version": "1.2.0",
            "_view_name": "StyleView",
            "bar_color": null,
            "description_width": ""
          }
        },
        "72089b0ef55548a99fdf509e4c3fb5ee": {
          "model_module": "@jupyter-widgets/base",
          "model_name": "LayoutModel",
          "model_module_version": "1.2.0",
          "state": {
            "_model_module": "@jupyter-widgets/base",
            "_model_module_version": "1.2.0",
            "_model_name": "LayoutModel",
            "_view_count": null,
            "_view_module": "@jupyter-widgets/base",
            "_view_module_version": "1.2.0",
            "_view_name": "LayoutView",
            "align_content": null,
            "align_items": null,
            "align_self": null,
            "border": null,
            "bottom": null,
            "display": null,
            "flex": null,
            "flex_flow": null,
            "grid_area": null,
            "grid_auto_columns": null,
            "grid_auto_flow": null,
            "grid_auto_rows": null,
            "grid_column": null,
            "grid_gap": null,
            "grid_row": null,
            "grid_template_areas": null,
            "grid_template_columns": null,
            "grid_template_rows": null,
            "height": null,
            "justify_content": null,
            "justify_items": null,
            "left": null,
            "margin": null,
            "max_height": null,
            "max_width": null,
            "min_height": null,
            "min_width": null,
            "object_fit": null,
            "object_position": null,
            "order": null,
            "overflow": null,
            "overflow_x": null,
            "overflow_y": null,
            "padding": null,
            "right": null,
            "top": null,
            "visibility": null,
            "width": null
          }
        },
        "8413ea12fad544be9811db9ab39d71aa": {
          "model_module": "@jupyter-widgets/controls",
          "model_name": "DescriptionStyleModel",
          "model_module_version": "1.5.0",
          "state": {
            "_model_module": "@jupyter-widgets/controls",
            "_model_module_version": "1.5.0",
            "_model_name": "DescriptionStyleModel",
            "_view_count": null,
            "_view_module": "@jupyter-widgets/base",
            "_view_module_version": "1.2.0",
            "_view_name": "StyleView",
            "description_width": ""
          }
        }
      }
    }
  },
  "nbformat": 4,
  "nbformat_minor": 0
}