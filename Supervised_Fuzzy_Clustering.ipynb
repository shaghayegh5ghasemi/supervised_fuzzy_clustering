{
  "cells": [
    {
      "cell_type": "markdown",
      "metadata": {
        "id": "view-in-github",
        "colab_type": "text"
      },
      "source": [
        "<a href=\"https://colab.research.google.com/github/shaghayegh5ghasemi/supervised_fuzzy_clustering/blob/main/Supervised_Fuzzy_Clustering.ipynb\" target=\"_parent\"><img src=\"https://colab.research.google.com/assets/colab-badge.svg\" alt=\"Open In Colab\"/></a>"
      ]
    },
    {
      "cell_type": "code",
      "execution_count": null,
      "metadata": {
        "id": "m0jhR6h4Zdwu"
      },
      "outputs": [],
      "source": [
        "def make_window(img, label):\n",
        "  # windows = img.unfold(1, 3, 2).unfold(2, 3, 2) # unflod(dimension, size, step)\n",
        "  # selected_windows = []\n",
        "  # for n in range(2):\n",
        "  #   i = torch.randint(0, 14, (1, 1))\n",
        "  #   j = torch.randint(0, 14, (1, 1))\n",
        "  #   temp = windows[:, i[0, 0], j[0, 0]].reshape((27, 1))\n",
        "  #   selected_windows.append([temp, label])\n",
        "  # return selected_windows\n",
        "  windows = img.unfold(1, 3, 2).unfold(2, 3, 2) # unflod(dimension, size, step)\n",
        "  test = []\n",
        "  for i in range(15):\n",
        "    for j in range(15):\n",
        "      temp = windows[:, i, j].reshape((27, 1))\n",
        "      test.append([temp, label])\n",
        "  return test\n",
        "\n",
        "def make_dataset():\n",
        "  dataset = []\n",
        "  my_labels = [torch.tensor(0), torch.tensor(1), torch.tensor(2)]\n",
        "  c = [0, 0, 0]\n",
        "  for i, (inputs, labels) in enumerate(trainloader):\n",
        "    if c[0] == 5 and c[1] == 5 and c[2] == 5:\n",
        "      break\n",
        "    if labels in my_labels:\n",
        "      if c[labels[0]] == 5:\n",
        "          continue\n",
        "      else:\n",
        "        c[labels[0]] += 1\n",
        "        dataset = dataset + make_window(inputs[0], labels[0])\n",
        "  return dataset"
      ]
    },
    {
      "cell_type": "code",
      "execution_count": null,
      "metadata": {
        "id": "1J7dz3ovFH3t"
      },
      "outputs": [],
      "source": [
        "import torch\n",
        "import torchvision\n",
        "import torchvision.transforms as transforms\n",
        "import torchvision.datasets as datasets\n",
        "from torch.utils.data import DataLoader\n",
        "import matplotlib.pyplot as plt\n",
        "import numpy as np\n",
        "import torch.nn as nn"
      ]
    },
    {
      "cell_type": "code",
      "execution_count": null,
      "metadata": {
        "colab": {
          "base_uri": "https://localhost:8080/",
          "height": 103,
          "referenced_widgets": [
            "4b1871d5cd1a423a88f5fe439d14631f",
            "1332c55ed46541dfa5c324ced93752b6",
            "7f3ae63d1ba0485d966ba493d4d3b1ab",
            "14f3d883b93346eebdc1d91ffd1b18b2",
            "b64335d9f86c49edb5274094958c5e77",
            "0293cc16a13c45d78f89e5774c151779",
            "1e47a18be1664798ad732fa763e566db",
            "29225db2c8934b6487d6462d03164c3b",
            "06c0b276c19d4fee99c436e708086e17",
            "14d9b8ad5fab40169553479a2bb0e88a",
            "f78579430c74408f870d30487e6b3745"
          ]
        },
        "id": "wf288Mi7Xzqi",
        "outputId": "bcf0d436-ed6a-47d1-eba5-c8cd19088942"
      },
      "outputs": [
        {
          "output_type": "stream",
          "name": "stdout",
          "text": [
            "Downloading https://www.cs.toronto.edu/~kriz/cifar-10-python.tar.gz to dataset/cifar-10-python.tar.gz\n"
          ]
        },
        {
          "output_type": "display_data",
          "data": {
            "text/plain": [
              "  0%|          | 0/170498071 [00:00<?, ?it/s]"
            ],
            "application/vnd.jupyter.widget-view+json": {
              "version_major": 2,
              "version_minor": 0,
              "model_id": "4b1871d5cd1a423a88f5fe439d14631f"
            }
          },
          "metadata": {}
        },
        {
          "output_type": "stream",
          "name": "stdout",
          "text": [
            "Extracting dataset/cifar-10-python.tar.gz to dataset/\n",
            "Files already downloaded and verified\n"
          ]
        }
      ],
      "source": [
        "# load data\n",
        "trainset = datasets.CIFAR10(root='dataset/', train=True, transform=transforms.ToTensor(), download=True)\n",
        "trainloader = DataLoader(dataset=trainset, batch_size=1, shuffle=True)\n",
        "testset = datasets.CIFAR10(root='dataset/', train=False, transform=transforms.ToTensor(), download=True)\n",
        "testloader = DataLoader(dataset=testset, batch_size=1, shuffle=True)"
      ]
    },
    {
      "cell_type": "code",
      "source": [
        "classes = ('plane', 'car', 'bird', 'cat',\n",
        "           'deer', 'dog', 'frog', 'horse', 'ship', 'truck')\n",
        "\n",
        "# dataset keeps our windows, class_label_matrix keeps the label of windows\n",
        "dataset = []\n",
        "class_label_matrix = []\n",
        "\n",
        "# centroid and cov of each cluster\n",
        "centroids = []\n",
        "covariances = []\n",
        "inverted_covariances = []\n",
        "\n",
        "# initialize the centroids and the parameters\n",
        "number_of_dimensions = 27\n",
        "number_of_classes = 3 #len(classes)\n",
        "\n",
        "gamma = 1\n",
        "sigma = 0.9\n",
        "threshold = 0.2\n",
        "beta = 1"
      ],
      "metadata": {
        "id": "rboSLDuDUWnf"
      },
      "execution_count": null,
      "outputs": []
    },
    {
      "cell_type": "code",
      "source": [
        "# plot the image\n",
        "def imshow(img):\n",
        "    img = img / 2 + 0.5     # unnormalize\n",
        "    npimg = img.numpy() # convert from tensor\n",
        "    plt.imshow(np.transpose(npimg, (1, 2, 0)))\n",
        "    plt.show()"
      ],
      "metadata": {
        "id": "JMEb8onvTvtJ"
      },
      "execution_count": null,
      "outputs": []
    },
    {
      "cell_type": "code",
      "source": [
        "def make_window(dataset, class_label_matrix, img, label, number_of_classes):\n",
        "  windows = img.unfold(1, 3, 2).unfold(2, 3, 2) # unflod(dimension, size, step)\n",
        "  for i in range(15):\n",
        "    for j in range(15):\n",
        "      dataset.append(windows[:, i, j].reshape((27)))\n",
        "      temp = [0]*number_of_classes\n",
        "      temp[label] = 1\n",
        "      class_label_matrix.append(temp)"
      ],
      "metadata": {
        "id": "ErFLN31mUrzV"
      },
      "execution_count": null,
      "outputs": []
    },
    {
      "cell_type": "code",
      "source": [
        "def make_dataset(dataset, class_label_matrix):\n",
        "  my_labels = [torch.tensor(0), torch.tensor(1), torch.tensor(2)]\n",
        "  c = [0, 0, 0]\n",
        "  for i, (inputs, labels) in enumerate(trainloader):\n",
        "    if c[0] == 6 and c[1] == 6 and c[2] == 6:\n",
        "      break\n",
        "    if labels in my_labels:\n",
        "      if c[labels[0]] == 6:\n",
        "          continue\n",
        "      else:\n",
        "        c[labels[0]] += 1\n",
        "        make_window(dataset, class_label_matrix, inputs[0], labels[0], 3)"
      ],
      "metadata": {
        "id": "IyFBjivsc_Aw"
      },
      "execution_count": null,
      "outputs": []
    },
    {
      "cell_type": "code",
      "source": [
        "make_dataset(dataset, class_label_matrix)\n",
        "dataset = torch.stack(dataset)\n",
        "class_label_matrix = np.array(class_label_matrix, dtype=\"float32\")"
      ],
      "metadata": {
        "id": "hTU1Zxdve4im"
      },
      "execution_count": null,
      "outputs": []
    },
    {
      "cell_type": "code",
      "execution_count": null,
      "metadata": {
        "id": "dzj-L1pZSUFS"
      },
      "outputs": [],
      "source": [
        "def calculate_mahanalobis_distance(icm, m, x):\n",
        "  # D^2 = (x-m)^T * C^-1 * (x-m), mahanalobis distance formula\n",
        "  s = x-m\n",
        "  return s.T@icm@s"
      ]
    },
    {
      "cell_type": "code",
      "execution_count": null,
      "metadata": {
        "id": "K4EAW-dkLCTh"
      },
      "outputs": [],
      "source": [
        "def initialize_centroids(dataset, centroids, inverted_covariances, covariances, number_of_dimensions, gamma, sigma, threshold):\n",
        "  number_of_centroids = len(centroids)\n",
        "  for data in dataset:\n",
        "    if number_of_centroids == 0:\n",
        "      number_of_centroids += 1\n",
        "      centroids.append(data)\n",
        "      covariances.append(sigma*torch.eye(number_of_dimensions))\n",
        "      inverted_covariances.append(torch.eye(number_of_dimensions)/sigma)\n",
        "    else:\n",
        "      distances = []\n",
        "      for i in range(number_of_centroids):\n",
        "        distances.append(calculate_mahanalobis_distance(inverted_covariances[i], centroids[i], data[i]))\n",
        "      distances = -1*gamma*np.array(distances)\n",
        "      RM = np.exp(distances)\n",
        "      if max(RM) < threshold:\n",
        "        number_of_centroids += 1\n",
        "        centroids.append(data)\n",
        "        covariances.append(sigma*torch.eye(number_of_dimensions))\n",
        "        inverted_covariances.append(torch.eye(number_of_dimensions)/sigma)"
      ]
    },
    {
      "cell_type": "code",
      "source": [
        "initialize_centroids(dataset, centroids, inverted_covariances, covariances, number_of_dimensions, gamma, sigma, threshold)\n",
        "q = np.zeros((len(centroids), 3), dtype=\"float32\") # matrix that contains the probibilities number of clusters x number of classes\n",
        "miu_ik = np.zeros((len(dataset), len(centroids)), dtype=\"float32\") # matrix that contains the memberships number of samples x number of clusters"
      ],
      "metadata": {
        "id": "Vm6kNHN7jiMQ"
      },
      "execution_count": null,
      "outputs": []
    },
    {
      "cell_type": "code",
      "execution_count": null,
      "metadata": {
        "colab": {
          "base_uri": "https://localhost:8080/"
        },
        "id": "Q4mfSZV1nBmt",
        "outputId": "dafadbf5-518d-408e-8c5f-7eea89b0b483"
      },
      "outputs": [
        {
          "output_type": "stream",
          "name": "stdout",
          "text": [
            "14\n"
          ]
        }
      ],
      "source": [
        "print(len(centroids))"
      ]
    },
    {
      "cell_type": "code",
      "execution_count": null,
      "metadata": {
        "id": "guCsuBWzd533"
      },
      "outputs": [],
      "source": [
        "def calculate_membership(icm, vi, x, gamma):\n",
        "  distance = calculate_mahanalobis_distance(icm, vi, x)\n",
        "  if np.exp(-1*gamma*distance) < 0.0001:\n",
        "    return np.array(0.0001)\n",
        "  else:\n",
        "    return np.exp(-1*gamma*distance)"
      ]
    },
    {
      "cell_type": "code",
      "source": [
        "def calculate_membership_matrix(dataset ,centroids, inverted_covariances, miu_ik, gamma):\n",
        "  for i in range(len(centroids)):\n",
        "    for j in range(len(dataset)):\n",
        "      miu_ik[j][i] = calculate_membership(inverted_covariances[i], centroids[i], dataset[j], gamma)\n",
        "  # normalize the matirx\n",
        "  sum_of_rows = miu_ik.sum(axis=1)\n",
        "  miu_ik = miu_ik/sum_of_rows[:, np.newaxis]\n",
        "  miu_ik = miu_ik.astype(np.float32)"
      ],
      "metadata": {
        "id": "v2pfMUWfk5aL"
      },
      "execution_count": null,
      "outputs": []
    },
    {
      "cell_type": "code",
      "execution_count": null,
      "metadata": {
        "id": "OjKYJzLddKZd"
      },
      "outputs": [],
      "source": [
        "def update_centroids(dataset, centroids, inverted_covariances, miu_ik, q, gamma, beta):\n",
        "  calculate_membership_matrix(dataset ,centroids, inverted_covariances, miu_ik, gamma)\n",
        "  for i in range(len(centroids)):\n",
        "    temp = class_label_matrix*miu_ik[:, [i]]\n",
        "    cnt = np.sum(temp, 0).reshape(1, 3) \n",
        "    q[i, :] = cnt/np.sum(cnt)\n",
        "    temp2 = np.sum(q[i, :]*class_label_matrix, 1).reshape(len(dataset), 1)*miu_ik[:, [i]]\n",
        "    temp3 = np.transpose(temp2)@dataset.cpu().detach().numpy()\n",
        "    centroids[i] = (1-beta)*centroids[i] + beta*(temp3[0])/np.sum(temp2)"
      ]
    },
    {
      "cell_type": "code",
      "execution_count": null,
      "metadata": {
        "id": "1j8qU4JJvori"
      },
      "outputs": [],
      "source": [
        "def calculate_inverted_covariance(covariance):\n",
        "  covariance = np.array(covariance)\n",
        "  l, mygamma = np.linalg.eig(covariance) # calculate eigenvalues and eigenvectors\n",
        "  mylambda = np.zeros((l.shape[0], l.shape[0])) # construct a diagnosal matrix with eigenvalues\n",
        "  for i in range(l.shape[0]):\n",
        "    if l[i] < 0.00001:\n",
        "      mylambda[i][i] = np.float32(0)\n",
        "    else:\n",
        "      mylambda[i][i] = np.float32(1/l[i])\n",
        "  icm = (mygamma)@(mylambda)@(mygamma.T) # invert of the covariance matrix\n",
        "  icm = np.float32(icm)\n",
        "  return torch.tensor(icm)"
      ]
    },
    {
      "cell_type": "code",
      "execution_count": null,
      "metadata": {
        "id": "knbnwv89pU6v"
      },
      "outputs": [],
      "source": [
        "def update_covariances(dataset, centroids, covariances, inverted_covariances, q, classes, gamma, beta):\n",
        "  calculate_membership_matrix(dataset ,centroids, inverted_covariances, miu_ik, gamma)\n",
        "  for i in range(len(centroids)):\n",
        "    temp = class_label_matrix*miu_ik[:, [i]]\n",
        "    cnt = np.sum(temp, 0).reshape(1, 3) # shape ino havaset basheeeeeeeeeeeeeeeeeee\n",
        "    q[i, :] = cnt/np.sum(cnt)\n",
        "    temp2 = np.sum(q[i, :]*class_label_matrix, 1).reshape(len(dataset), 1)*miu_ik[:, [i]]\n",
        "\n",
        "    x_clusteri = dataset - centroids[i]\n",
        "    temp3 = np.transpose(temp2*x_clusteri.cpu().detach().numpy())@(x_clusteri.cpu().detach().numpy())\n",
        "    covariances[i] = (1-beta)*covariances[i] + beta*temp3/np.sum(temp2)\n",
        "    inverted_covariances[i] = calculate_inverted_covariance(covariances[i])"
      ]
    },
    {
      "cell_type": "code",
      "execution_count": null,
      "metadata": {
        "id": "apVhQznhzTHj"
      },
      "outputs": [],
      "source": [
        "def calculate_entropy(dataset, centroids, inverted_covariances, classes, q, gamma):\n",
        "  ent = -1*np.sum(np.mean(q*np.log(q + 0.00001), axis=0))\n",
        "  return ent"
      ]
    },
    {
      "cell_type": "code",
      "execution_count": null,
      "metadata": {
        "colab": {
          "base_uri": "https://localhost:8080/"
        },
        "id": "Hj_3eev80P9W",
        "outputId": "7dc0da78-1489-4876-ceab-ea8f3c936d90"
      },
      "outputs": [
        {
          "output_type": "stream",
          "name": "stdout",
          "text": [
            "1.0552418231964111\n",
            "0.5778627395629883\n",
            "0.6894226670265198\n",
            "0.22550147771835327\n",
            "0.6314082145690918\n",
            "0.20046202838420868\n",
            "0.48970434069633484\n",
            "0.16388745605945587\n",
            "0.5346106290817261\n",
            "0.17980867624282837\n",
            "0.551712155342102\n",
            "0.20961034297943115\n",
            "0.5142396688461304\n",
            "0.20627713203430176\n",
            "0.4580202102661133\n",
            "0.18613293766975403\n",
            "0.5484858751296997\n",
            "0.22361797094345093\n",
            "0.4258238673210144\n",
            "0.20034676790237427\n",
            "0.4305364489555359\n",
            "0.21690824627876282\n",
            "0.43435919284820557\n",
            "0.23569053411483765\n",
            "0.39665448665618896\n",
            "0.22401636838912964\n",
            "0.3795589804649353\n",
            "0.23388700187206268\n",
            "0.3350941836833954\n",
            "0.2398446500301361\n",
            "0.299407958984375\n",
            "0.26617729663848877\n",
            "0.29103919863700867\n",
            "0.2696373462677002\n",
            "0.29762667417526245\n",
            "0.27134382724761963\n",
            "0.28643226623535156\n",
            "0.27654463052749634\n",
            "0.28932738304138184\n",
            "0.2723432183265686\n",
            "0.2922021746635437\n",
            "0.2730335295200348\n",
            "0.28851863741874695\n",
            "0.27329182624816895\n",
            "0.2842986285686493\n",
            "0.27078795433044434\n",
            "0.2813170254230499\n",
            "0.2760869264602661\n",
            "0.2738197445869446\n",
            "0.2796539068222046\n"
          ]
        }
      ],
      "source": [
        "entropy_curve = []\n",
        "for i in range(50):\n",
        "  update_centroids(dataset, centroids, inverted_covariances, miu_ik, q, gamma, beta)\n",
        "  update_covariances(dataset, centroids, covariances, inverted_covariances, q, classes, gamma, beta)\n",
        "  entropy = calculate_entropy(dataset, centroids, inverted_covariances, classes, q, gamma)\n",
        "  entropy_curve.append(entropy)\n",
        "  print(entropy)"
      ]
    },
    {
      "cell_type": "code",
      "source": [
        "import matplotlib.pyplot as plt\n",
        "plt.plot(entropy_curve)\n",
        "plt.show()"
      ],
      "metadata": {
        "colab": {
          "base_uri": "https://localhost:8080/",
          "height": 265
        },
        "id": "EN2M7DifG4lg",
        "outputId": "f7db40bc-a650-4444-cf5b-0ce9953d724c"
      },
      "execution_count": null,
      "outputs": [
        {
          "output_type": "display_data",
          "data": {
            "text/plain": [
              "<Figure size 432x288 with 1 Axes>"
            ],
            "image/png": "[encoded data removed]"
          },
          "metadata": {
            "needs_background": "light"
          }
        }
      ]
    },
    {
      "cell_type": "code",
      "execution_count": null,
      "metadata": {
        "colab": {
          "base_uri": "https://localhost:8080/",
          "height": 1000
        },
        "id": "hLxBTTapANKV",
        "outputId": "673a7cd3-2226-45a8-bac2-e600000e3981"
      },
      "outputs": [
        {
          "output_type": "stream",
          "name": "stdout",
          "text": [
            "    c a r\n"
          ]
        },
        {
          "output_type": "display_data",
          "data": {
            "text/plain": [
              "<Figure size 432x288 with 1 Axes>"
            ],
            "image/png": "[encoded data removed]"
          },
          "metadata": {
            "needs_background": "light"
          }
        },
        {
          "output_type": "stream",
          "name": "stdout",
          "text": [
            "window number 1 belongs to cluster 1\n",
            "window number 2 belongs to cluster 1\n",
            "window number 3 belongs to cluster 1\n",
            "window number 4 belongs to cluster 1\n",
            "window number 5 belongs to cluster 1\n",
            "window number 6 belongs to cluster 1\n",
            "window number 7 belongs to cluster 1\n",
            "window number 8 belongs to cluster 1\n",
            "window number 9 belongs to cluster 1\n",
            "window number 10 belongs to cluster 1\n",
            "window number 11 belongs to cluster 1\n",
            "window number 12 belongs to cluster 1\n",
            "window number 13 belongs to cluster 1\n",
            "window number 14 belongs to cluster 1\n",
            "window number 15 belongs to cluster 1\n",
            "window number 16 belongs to cluster 1\n",
            "window number 17 belongs to cluster 1\n",
            "window number 18 belongs to cluster 1\n",
            "window number 19 belongs to cluster 1\n",
            "window number 20 belongs to cluster 1\n",
            "window number 21 belongs to cluster 1\n",
            "window number 22 belongs to cluster 1\n",
            "window number 23 belongs to cluster 1\n",
            "window number 24 belongs to cluster 1\n",
            "window number 25 belongs to cluster 1\n",
            "window number 26 belongs to cluster 1\n",
            "window number 27 belongs to cluster 1\n",
            "window number 28 belongs to cluster 1\n",
            "window number 29 belongs to cluster 1\n",
            "window number 30 belongs to cluster 1\n",
            "window number 31 belongs to cluster 1\n",
            "window number 32 belongs to cluster 1\n",
            "window number 33 belongs to cluster 1\n",
            "window number 34 belongs to cluster 1\n",
            "window number 35 belongs to cluster 1\n",
            "window number 36 belongs to cluster 1\n",
            "window number 37 belongs to cluster 1\n",
            "window number 38 belongs to cluster 1\n",
            "window number 39 belongs to cluster 1\n",
            "window number 40 belongs to cluster 1\n",
            "window number 41 belongs to cluster 1\n",
            "window number 42 belongs to cluster 1\n",
            "window number 43 belongs to cluster 1\n",
            "window number 44 belongs to cluster 1\n",
            "window number 45 belongs to cluster 1\n",
            "window number 46 belongs to cluster 1\n",
            "window number 47 belongs to cluster 1\n",
            "window number 48 belongs to cluster 1\n",
            "window number 49 belongs to cluster 1\n",
            "window number 50 belongs to cluster 1\n",
            "window number 51 belongs to cluster 1\n",
            "window number 52 belongs to cluster 1\n",
            "window number 53 belongs to cluster 1\n",
            "window number 54 belongs to cluster 1\n",
            "window number 55 belongs to cluster 1\n",
            "window number 56 belongs to cluster 1\n",
            "window number 57 belongs to cluster 1\n",
            "window number 58 belongs to cluster 1\n",
            "window number 59 belongs to cluster 1\n",
            "window number 60 belongs to cluster 1\n",
            "window number 61 belongs to cluster 1\n",
            "window number 62 belongs to cluster 1\n",
            "window number 63 belongs to cluster 1\n",
            "window number 64 belongs to cluster 1\n",
            "window number 65 belongs to cluster 1\n",
            "window number 66 belongs to cluster 1\n",
            "window number 67 belongs to cluster 1\n",
            "window number 68 belongs to cluster 1\n",
            "window number 69 belongs to cluster 1\n",
            "window number 70 belongs to cluster 1\n",
            "window number 71 belongs to cluster 1\n",
            "window number 72 belongs to cluster 1\n",
            "window number 73 belongs to cluster 1\n",
            "window number 74 belongs to cluster 1\n",
            "window number 75 belongs to cluster 1\n",
            "window number 76 belongs to cluster 1\n",
            "window number 77 belongs to cluster 1\n",
            "window number 78 belongs to cluster 1\n",
            "window number 79 belongs to cluster 1\n",
            "window number 80 belongs to cluster 1\n",
            "window number 81 belongs to cluster 1\n",
            "window number 82 belongs to cluster 1\n",
            "window number 83 belongs to cluster 1\n",
            "window number 84 belongs to cluster 1\n",
            "window number 85 belongs to cluster 1\n",
            "window number 86 belongs to cluster 1\n",
            "window number 87 belongs to cluster 1\n",
            "window number 88 belongs to cluster 1\n",
            "window number 89 belongs to cluster 1\n",
            "window number 90 belongs to cluster 1\n",
            "window number 91 belongs to cluster 1\n",
            "window number 92 belongs to cluster 1\n",
            "window number 93 belongs to cluster 1\n",
            "window number 94 belongs to cluster 1\n",
            "window number 95 belongs to cluster 1\n",
            "window number 96 belongs to cluster 1\n",
            "window number 97 belongs to cluster 1\n",
            "window number 98 belongs to cluster 1\n",
            "window number 99 belongs to cluster 1\n",
            "window number 100 belongs to cluster 1\n",
            "window number 101 belongs to cluster 1\n",
            "window number 102 belongs to cluster 1\n",
            "window number 103 belongs to cluster 1\n",
            "window number 104 belongs to cluster 1\n",
            "window number 105 belongs to cluster 1\n",
            "window number 106 belongs to cluster 1\n",
            "window number 107 belongs to cluster 1\n",
            "window number 108 belongs to cluster 1\n",
            "window number 109 belongs to cluster 1\n",
            "window number 110 belongs to cluster 1\n",
            "window number 111 belongs to cluster 1\n",
            "window number 112 belongs to cluster 1\n",
            "window number 113 belongs to cluster 1\n",
            "window number 114 belongs to cluster 1\n",
            "window number 115 belongs to cluster 1\n",
            "window number 116 belongs to cluster 1\n",
            "window number 117 belongs to cluster 1\n",
            "window number 118 belongs to cluster 1\n",
            "window number 119 belongs to cluster 1\n",
            "window number 120 belongs to cluster 1\n",
            "window number 121 belongs to cluster 1\n",
            "window number 122 belongs to cluster 1\n",
            "window number 123 belongs to cluster 1\n",
            "window number 124 belongs to cluster 1\n",
            "window number 125 belongs to cluster 1\n",
            "window number 126 belongs to cluster 1\n",
            "window number 127 belongs to cluster 1\n",
            "window number 128 belongs to cluster 1\n",
            "window number 129 belongs to cluster 1\n",
            "window number 130 belongs to cluster 1\n",
            "window number 131 belongs to cluster 1\n",
            "window number 132 belongs to cluster 1\n",
            "window number 133 belongs to cluster 1\n",
            "window number 134 belongs to cluster 1\n",
            "window number 135 belongs to cluster 1\n",
            "window number 136 belongs to cluster 1\n",
            "window number 137 belongs to cluster 1\n",
            "window number 138 belongs to cluster 1\n",
            "window number 139 belongs to cluster 1\n",
            "window number 140 belongs to cluster 1\n",
            "window number 141 belongs to cluster 1\n",
            "window number 142 belongs to cluster 1\n",
            "window number 143 belongs to cluster 1\n",
            "window number 144 belongs to cluster 1\n",
            "window number 145 belongs to cluster 1\n",
            "window number 146 belongs to cluster 1\n",
            "window number 147 belongs to cluster 1\n",
            "window number 148 belongs to cluster 1\n",
            "window number 149 belongs to cluster 1\n",
            "window number 150 belongs to cluster 1\n",
            "window number 151 belongs to cluster 1\n",
            "window number 152 belongs to cluster 1\n",
            "window number 153 belongs to cluster 1\n",
            "window number 154 belongs to cluster 1\n",
            "window number 155 belongs to cluster 1\n",
            "window number 156 belongs to cluster 1\n",
            "window number 157 belongs to cluster 1\n",
            "window number 158 belongs to cluster 1\n",
            "window number 159 belongs to cluster 1\n",
            "window number 160 belongs to cluster 1\n",
            "window number 161 belongs to cluster 1\n",
            "window number 162 belongs to cluster 1\n",
            "window number 163 belongs to cluster 1\n",
            "window number 164 belongs to cluster 1\n",
            "window number 165 belongs to cluster 1\n",
            "window number 166 belongs to cluster 1\n",
            "window number 167 belongs to cluster 1\n",
            "window number 168 belongs to cluster 1\n",
            "window number 169 belongs to cluster 1\n",
            "window number 170 belongs to cluster 1\n",
            "window number 171 belongs to cluster 1\n",
            "window number 172 belongs to cluster 1\n",
            "window number 173 belongs to cluster 1\n",
            "window number 174 belongs to cluster 1\n",
            "window number 175 belongs to cluster 1\n",
            "window number 176 belongs to cluster 1\n",
            "window number 177 belongs to cluster 1\n",
            "window number 178 belongs to cluster 1\n",
            "window number 179 belongs to cluster 1\n",
            "window number 180 belongs to cluster 1\n",
            "window number 181 belongs to cluster 1\n",
            "window number 182 belongs to cluster 1\n",
            "window number 183 belongs to cluster 1\n",
            "window number 184 belongs to cluster 1\n",
            "window number 185 belongs to cluster 1\n",
            "window number 186 belongs to cluster 1\n",
            "window number 187 belongs to cluster 1\n",
            "window number 188 belongs to cluster 1\n",
            "window number 189 belongs to cluster 1\n",
            "window number 190 belongs to cluster 1\n",
            "window number 191 belongs to cluster 1\n",
            "window number 192 belongs to cluster 1\n",
            "window number 193 belongs to cluster 1\n",
            "window number 194 belongs to cluster 1\n",
            "window number 195 belongs to cluster 1\n",
            "window number 196 belongs to cluster 1\n",
            "window number 197 belongs to cluster 1\n",
            "window number 198 belongs to cluster 1\n",
            "window number 199 belongs to cluster 1\n",
            "window number 200 belongs to cluster 1\n",
            "window number 201 belongs to cluster 1\n",
            "window number 202 belongs to cluster 1\n",
            "window number 203 belongs to cluster 1\n",
            "window number 204 belongs to cluster 1\n",
            "window number 205 belongs to cluster 1\n",
            "window number 206 belongs to cluster 1\n",
            "window number 207 belongs to cluster 1\n",
            "window number 208 belongs to cluster 1\n",
            "window number 209 belongs to cluster 1\n",
            "window number 210 belongs to cluster 1\n",
            "window number 211 belongs to cluster 1\n",
            "window number 212 belongs to cluster 1\n",
            "window number 213 belongs to cluster 1\n",
            "window number 214 belongs to cluster 1\n",
            "window number 215 belongs to cluster 1\n",
            "window number 216 belongs to cluster 1\n",
            "window number 217 belongs to cluster 1\n",
            "window number 218 belongs to cluster 1\n",
            "window number 219 belongs to cluster 1\n",
            "window number 220 belongs to cluster 1\n",
            "window number 221 belongs to cluster 1\n",
            "window number 222 belongs to cluster 1\n",
            "window number 223 belongs to cluster 1\n",
            "window number 224 belongs to cluster 1\n",
            "window number 225 belongs to cluster 1\n"
          ]
        }
      ],
      "source": [
        "label = torch.tensor(12)\n",
        "for i, (inputs, labels) in enumerate(testloader):\n",
        "  if label != torch.tensor(12):\n",
        "    break\n",
        "  if labels[0] in [torch.tensor(0), torch.tensor(1), torch.tensor(2)]:\n",
        "    image = inputs[0]\n",
        "    label = labels[0]\n",
        "print(' '.join('%5s' % classes[label]))\n",
        "imshow(torchvision.utils.make_grid(image))\n",
        "\n",
        "windows = image.unfold(1, 3, 2).unfold(2, 3, 2) # unflod(dimension, size, step)\n",
        "test = []\n",
        "for i in range(15):\n",
        "  for j in range(15): \n",
        "    test.append(windows[:, i, j].reshape(27))\n",
        "\n",
        "windows_max_membership = []\n",
        "for w in test:\n",
        "  memberships = []\n",
        "  for i in range(len(centroids)):\n",
        "    memberships.append(calculate_membership(inverted_covariances[i], centroids[i], w, gamma))\n",
        "  windows_max_membership.append(np.argmax(memberships))\n",
        "\n",
        "\n",
        "for i in range(len(test)):\n",
        "  print(f'window number {i+1} belongs to cluster {windows_max_membership[i] + 1}')\n",
        "  \n"
      ]
    }
  ],
  "metadata": {
    "colab": {
      "collapsed_sections": [],
      "name": "Supervised_Fuzzy_Clustering.ipynb",
      "provenance": [],
      "authorship_tag": "ABX9TyPU2cwvK3xOrdHvUrc3A0sG",
      "include_colab_link": true
    },
    "kernelspec": {
      "display_name": "Python 3",
      "name": "python3"
    },
    "language_info": {
      "name": "python"
    },
    "widgets": {
      "application/vnd.jupyter.widget-state+json": {
        "4b1871d5cd1a423a88f5fe439d14631f": {
          "model_module": "@jupyter-widgets/controls",
          "model_name": "HBoxModel",
          "model_module_version": "1.5.0",
          "state": {
            "_dom_classes": [],
            "_model_module": "@jupyter-widgets/controls",
            "_model_module_version": "1.5.0",
            "_model_name": "HBoxModel",
            "_view_count": null,
            "_view_module": "@jupyter-widgets/controls",
            "_view_module_version": "1.5.0",
            "_view_name": "HBoxView",
            "box_style": "",
            "children": [
              "IPY_MODEL_1332c55ed46541dfa5c324ced93752b6",
              "IPY_MODEL_7f3ae63d1ba0485d966ba493d4d3b1ab",
              "IPY_MODEL_14f3d883b93346eebdc1d91ffd1b18b2"
            ],
            "layout": "IPY_MODEL_b64335d9f86c49edb5274094958c5e77"
          }
        },
        "1332c55ed46541dfa5c324ced93752b6": {
          "model_module": "@jupyter-widgets/controls",
          "model_name": "HTMLModel",
          "model_module_version": "1.5.0",
          "state": {
            "_dom_classes": [],
            "_model_module": "@jupyter-widgets/controls",
            "_model_module_version": "1.5.0",
            "_model_name": "HTMLModel",
            "_view_count": null,
            "_view_module": "@jupyter-widgets/controls",
            "_view_module_version": "1.5.0",
            "_view_name": "HTMLView",
            "description": "",
            "description_tooltip": null,
            "layout": "IPY_MODEL_0293cc16a13c45d78f89e5774c151779",
            "placeholder": "​",
            "style": "IPY_MODEL_1e47a18be1664798ad732fa763e566db",
            "value": ""
          }
        },
        "7f3ae63d1ba0485d966ba493d4d3b1ab": {
          "model_module": "@jupyter-widgets/controls",
          "model_name": "FloatProgressModel",
          "model_module_version": "1.5.0",
          "state": {
            "_dom_classes": [],
            "_model_module": "@jupyter-widgets/controls",
            "_model_module_version": "1.5.0",
            "_model_name": "FloatProgressModel",
            "_view_count": null,
            "_view_module": "@jupyter-widgets/controls",
            "_view_module_version": "1.5.0",
            "_view_name": "ProgressView",
            "bar_style": "success",
            "description": "",
            "description_tooltip": null,
            "layout": "IPY_MODEL_29225db2c8934b6487d6462d03164c3b",
            "max": 170498071,
            "min": 0,
            "orientation": "horizontal",
            "style": "IPY_MODEL_06c0b276c19d4fee99c436e708086e17",
            "value": 170498071
          }
        },
        "14f3d883b93346eebdc1d91ffd1b18b2": {
          "model_module": "@jupyter-widgets/controls",
          "model_name": "HTMLModel",
          "model_module_version": "1.5.0",
          "state": {
            "_dom_classes": [],
            "_model_module": "@jupyter-widgets/controls",
            "_model_module_version": "1.5.0",
            "_model_name": "HTMLModel",
            "_view_count": null,
            "_view_module": "@jupyter-widgets/controls",
            "_view_module_version": "1.5.0",
            "_view_name": "HTMLView",
            "description": "",
            "description_tooltip": null,
            "layout": "IPY_MODEL_14d9b8ad5fab40169553479a2bb0e88a",
            "placeholder": "​",
            "style": "IPY_MODEL_f78579430c74408f870d30487e6b3745",
            "value": " 170499072/? [00:02&lt;00:00, 77717010.42it/s]"
          }
        },
        "b64335d9f86c49edb5274094958c5e77": {
          "model_module": "@jupyter-widgets/base",
          "model_name": "LayoutModel",
          "model_module_version": "1.2.0",
          "state": {
            "_model_module": "@jupyter-widgets/base",
            "_model_module_version": "1.2.0",
            "_model_name": "LayoutModel",
            "_view_count": null,
            "_view_module": "@jupyter-widgets/base",
            "_view_module_version": "1.2.0",
            "_view_name": "LayoutView",
            "align_content": null,
            "align_items": null,
            "align_self": null,
            "border": null,
            "bottom": null,
            "display": null,
            "flex": null,
            "flex_flow": null,
            "grid_area": null,
            "grid_auto_columns": null,
            "grid_auto_flow": null,
            "grid_auto_rows": null,
            "grid_column": null,
            "grid_gap": null,
            "grid_row": null,
            "grid_template_areas": null,
            "grid_template_columns": null,
            "grid_template_rows": null,
            "height": null,
            "justify_content": null,
            "justify_items": null,
            "left": null,
            "margin": null,
            "max_height": null,
            "max_width": null,
            "min_height": null,
            "min_width": null,
            "object_fit": null,
            "object_position": null,
            "order": null,
            "overflow": null,
            "overflow_x": null,
            "overflow_y": null,
            "padding": null,
            "right": null,
            "top": null,
            "visibility": null,
            "width": null
          }
        },
        "0293cc16a13c45d78f89e5774c151779": {
          "model_module": "@jupyter-widgets/base",
          "model_name": "LayoutModel",
          "model_module_version": "1.2.0",
          "state": {
            "_model_module": "@jupyter-widgets/base",
            "_model_module_version": "1.2.0",
            "_model_name": "LayoutModel",
            "_view_count": null,
            "_view_module": "@jupyter-widgets/base",
            "_view_module_version": "1.2.0",
            "_view_name": "LayoutView",
            "align_content": null,
            "align_items": null,
            "align_self": null,
            "border": null,
            "bottom": null,
            "display": null,
            "flex": null,
            "flex_flow": null,
            "grid_area": null,
            "grid_auto_columns": null,
            "grid_auto_flow": null,
            "grid_auto_rows": null,
            "grid_column": null,
            "grid_gap": null,
            "grid_row": null,
            "grid_template_areas": null,
            "grid_template_columns": null,
            "grid_template_rows": null,
            "height": null,
            "justify_content": null,
            "justify_items": null,
            "left": null,
            "margin": null,
            "max_height": null,
            "max_width": null,
            "min_height": null,
            "min_width": null,
            "object_fit": null,
            "object_position": null,
            "order": null,
            "overflow": null,
            "overflow_x": null,
            "overflow_y": null,
            "padding": null,
            "right": null,
            "top": null,
            "visibility": null,
            "width": null
          }
        },
        "1e47a18be1664798ad732fa763e566db": {
          "model_module": "@jupyter-widgets/controls",
          "model_name": "DescriptionStyleModel",
          "model_module_version": "1.5.0",
          "state": {
            "_model_module": "@jupyter-widgets/controls",
            "_model_module_version": "1.5.0",
            "_model_name": "DescriptionStyleModel",
            "_view_count": null,
            "_view_module": "@jupyter-widgets/base",
            "_view_module_version": "1.2.0",
            "_view_name": "StyleView",
            "description_width": ""
          }
        },
        "29225db2c8934b6487d6462d03164c3b": {
          "model_module": "@jupyter-widgets/base",
          "model_name": "LayoutModel",
          "model_module_version": "1.2.0",
          "state": {
            "_model_module": "@jupyter-widgets/base",
            "_model_module_version": "1.2.0",
            "_model_name": "LayoutModel",
            "_view_count": null,
            "_view_module": "@jupyter-widgets/base",
            "_view_module_version": "1.2.0",
            "_view_name": "LayoutView",
            "align_content": null,
            "align_items": null,
            "align_self": null,
            "border": null,
            "bottom": null,
            "display": null,
            "flex": null,
            "flex_flow": null,
            "grid_area": null,
            "grid_auto_columns": null,
            "grid_auto_flow": null,
            "grid_auto_rows": null,
            "grid_column": null,
            "grid_gap": null,
            "grid_row": null,
            "grid_template_areas": null,
            "grid_template_columns": null,
            "grid_template_rows": null,
            "height": null,
            "justify_content": null,
            "justify_items": null,
            "left": null,
            "margin": null,
            "max_height": null,
            "max_width": null,
            "min_height": null,
            "min_width": null,
            "object_fit": null,
            "object_position": null,
            "order": null,
            "overflow": null,
            "overflow_x": null,
            "overflow_y": null,
            "padding": null,
            "right": null,
            "top": null,
            "visibility": null,
            "width": null
          }
        },
        "06c0b276c19d4fee99c436e708086e17": {
          "model_module": "@jupyter-widgets/controls",
          "model_name": "ProgressStyleModel",
          "model_module_version": "1.5.0",
          "state": {
            "_model_module": "@jupyter-widgets/controls",
            "_model_module_version": "1.5.0",
            "_model_name": "ProgressStyleModel",
            "_view_count": null,
            "_view_module": "@jupyter-widgets/base",
            "_view_module_version": "1.2.0",
            "_view_name": "StyleView",
            "bar_color": null,
            "description_width": ""
          }
        },
        "14d9b8ad5fab40169553479a2bb0e88a": {
          "model_module": "@jupyter-widgets/base",
          "model_name": "LayoutModel",
          "model_module_version": "1.2.0",
          "state": {
            "_model_module": "@jupyter-widgets/base",
            "_model_module_version": "1.2.0",
            "_model_name": "LayoutModel",
            "_view_count": null,
            "_view_module": "@jupyter-widgets/base",
            "_view_module_version": "1.2.0",
            "_view_name": "LayoutView",
            "align_content": null,
            "align_items": null,
            "align_self": null,
            "border": null,
            "bottom": null,
            "display": null,
            "flex": null,
            "flex_flow": null,
            "grid_area": null,
            "grid_auto_columns": null,
            "grid_auto_flow": null,
            "grid_auto_rows": null,
            "grid_column": null,
            "grid_gap": null,
            "grid_row": null,
            "grid_template_areas": null,
            "grid_template_columns": null,
            "grid_template_rows": null,
            "height": null,
            "justify_content": null,
            "justify_items": null,
            "left": null,
            "margin": null,
            "max_height": null,
            "max_width": null,
            "min_height": null,
            "min_width": null,
            "object_fit": null,
            "object_position": null,
            "order": null,
            "overflow": null,
            "overflow_x": null,
            "overflow_y": null,
            "padding": null,
            "right": null,
            "top": null,
            "visibility": null,
            "width": null
          }
        },
        "f78579430c74408f870d30487e6b3745": {
          "model_module": "@jupyter-widgets/controls",
          "model_name": "DescriptionStyleModel",
          "model_module_version": "1.5.0",
          "state": {
            "_model_module": "@jupyter-widgets/controls",
            "_model_module_version": "1.5.0",
            "_model_name": "DescriptionStyleModel",
            "_view_count": null,
            "_view_module": "@jupyter-widgets/base",
            "_view_module_version": "1.2.0",
            "_view_name": "StyleView",
            "description_width": ""
          }
        }
      }
    }
  },
  "nbformat": 4,
  "nbformat_minor": 0
}